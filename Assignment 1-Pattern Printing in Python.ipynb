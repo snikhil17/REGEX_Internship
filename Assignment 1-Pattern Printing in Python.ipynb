{
 "cells": [
  {
   "cell_type": "markdown",
   "id": "married-indie",
   "metadata": {},
   "source": [
    "# REGex Software Services\n",
    "-  **Machine Learning and Deep Learning Training/Internship**\n",
    "\n",
    "# Assignment 1: Printing Patterns in Python\n",
    "- **Author: Nikhil Shrestha**\n",
    "- **Referral ID :  AIRSS1129**\n"
   ]
  },
  {
   "cell_type": "markdown",
   "id": "linear-backing",
   "metadata": {},
   "source": [
    "# Points to remember before Printing the Patterns:\n",
    "- **Usually right angled triangle patterns use two (2) for loops** \n",
    "- \n",
    "## Outer for loop will take care of rows and inner will take care of columns\n",
    "- \n",
    "## Inner Loop will be in range of i (i.e. number of rows), depending on the required patterns.\n",
    "- \n",
    "## Finally we mostly use inner for loop to print the pattern.\n"
   ]
  },
  {
   "attachments": {
    "image.png": {
     "image/png": "[encoded data removed]"
    }
   },
   "cell_type": "markdown",
   "id": "natural-camera",
   "metadata": {},
   "source": [
    "![image.png](attachment:image.png)"
   ]
  },
  {
   "cell_type": "markdown",
   "id": "printable-catch",
   "metadata": {},
   "source": [
    "# Pseudo Code:\n",
    "- \n",
    "### As row number increases number of printed digits decreases. Hence, use outer loop with reverese range\n",
    "- \n",
    "### We need i columns in every row hence we use the range of inner loop as i.\n",
    "- \n",
    "### Print \"5\" in inner loop\n",
    "- \n",
    "### Print new line in outer loop"
   ]
  },
  {
   "cell_type": "code",
   "execution_count": 53,
   "id": "competitive-airport",
   "metadata": {},
   "outputs": [
    {
     "name": "stdout",
     "output_type": "stream",
     "text": [
      "5 5 5 5 5 \n",
      "5 5 5 5 \n",
      "5 5 5 \n",
      "5 5 \n",
      "5 \n"
     ]
    }
   ],
   "source": [
    "for i in range(5,0,-1):       # Reversing the order of range, as required for printing numbers\n",
    "    for j in range(i):        # Inner loop for printing the pattern, values are changing according to the outer loop\n",
    "        print('5', end = ' ') # Printing the pattern        \n",
    "    print()                   # For inserting a line after every iteration"
   ]
  },
  {
   "attachments": {
    "image.png": {
     "image/png": "[encoded data removed]"
    }
   },
   "cell_type": "markdown",
   "id": "mature-royal",
   "metadata": {},
   "source": [
    "![image.png](attachment:image.png)\n"
   ]
  },
  {
   "cell_type": "markdown",
   "id": "banner-salem",
   "metadata": {},
   "source": [
    "# Pseudo Code:\n",
    "- \n",
    "### Loop over row_range in reverse order. Use range from 6 to 1, to avoid printing single digit.\n",
    "\n",
    "- \n",
    "### Use inner for loop for range(i) and finally print the j. This will print the numbers i times conseutively \n"
   ]
  },
  {
   "cell_type": "code",
   "execution_count": 54,
   "id": "unexpected-george",
   "metadata": {},
   "outputs": [
    {
     "name": "stdout",
     "output_type": "stream",
     "text": [
      "0 1 2 3 4 5 \n",
      "0 1 2 3 4 \n",
      "0 1 2 3 \n",
      "0 1 2 \n",
      "0 1 \n"
     ]
    }
   ],
   "source": [
    "\n",
    "for i in range(6, 1, -1):    # Reversing the order of range, as required for printing numbers\n",
    "    for j in range(i):       # Inner loop for printing the pattern, values are changing according to the outer loop\n",
    "        print(j, end = \" \")  # Printing the Pattern\n",
    "    print()                  # For inserting a line after every iteration"
   ]
  },
  {
   "attachments": {
    "image.png": {
     "image/png": "[encoded data removed]"
    }
   },
   "cell_type": "markdown",
   "id": "level-functionality",
   "metadata": {},
   "source": [
    "![image.png](attachment:image.png)\n"
   ]
  },
  {
   "cell_type": "markdown",
   "id": "damaged-williams",
   "metadata": {},
   "source": [
    "# Pseudo Code:\n",
    "- \n",
    "### Outer loop (for rows) will start from range(1,6) as inner loop will not execute when i will be 0.\n",
    "- \n",
    "### initiate a variable num = 1, bcoz pattern starts with 1\n",
    "- \n",
    "### we need i columns in for each row hence we use range(i) to print the number i times.\n",
    "- \n",
    "### print the pattern inside inner for loop (print the variable num)\n",
    "- \n",
    "### increment number in OUTER LOOP by 2 because we need only odd numbers printed.\n",
    "- \n",
    "### DONOT Incrementing the number in inner loop as it will give you consequent numbers. We saw this in last pattern.\n"
   ]
  },
  {
   "cell_type": "code",
   "execution_count": 58,
   "id": "extensive-swimming",
   "metadata": {},
   "outputs": [
    {
     "name": "stdout",
     "output_type": "stream",
     "text": [
      "1 \n",
      "3 3 \n",
      "5 5 5 \n",
      "7 7 7 7 \n",
      "9 9 9 9 9 \n"
     ]
    }
   ],
   "source": [
    "num = 1                        # Initializing the number\n",
    "for i in range(1,6):           # Outer Loop should start with 1 otherwise 1 will not be printed.\n",
    "                               # Reason: when i is 0 inner loop(j) will not be executed \n",
    "    for j in range(i):         # Inner loop for printing the pattern, values are changing according to the outer loop\n",
    "        print(num, end = \" \")  # Printing the required pattern\n",
    "    num += 2                   # Incrementing num for the requirement of pattern printing\n",
    "    print()                    # For inserting new line\n"
   ]
  },
  {
   "attachments": {
    "image.png": {
     "image/png": "[encoded data removed]"
    }
   },
   "cell_type": "markdown",
   "id": "residential-explosion",
   "metadata": {},
   "source": [
    "![image.png](attachment:image.png)"
   ]
  },
  {
   "cell_type": "markdown",
   "id": "loving-trustee",
   "metadata": {},
   "source": [
    "# Pseudo Code:\n",
    "- \n",
    "### Use outer loop in range(0,6)\n",
    "- \n",
    "### we want reverse order of number in every row.\n",
    "- \n",
    "### Therefore, use inner loop on reveresed range i.e. range(row,0,-1)\n",
    "- \n",
    "### Finally print (col)"
   ]
  },
  {
   "cell_type": "code",
   "execution_count": 59,
   "id": "difficult-paradise",
   "metadata": {},
   "outputs": [
    {
     "name": "stdout",
     "output_type": "stream",
     "text": [
      "\n",
      "1 \n",
      "2 1 \n",
      "3 2 1 \n",
      "4 3 2 1 \n",
      "5 4 3 2 1 \n"
     ]
    }
   ],
   "source": [
    "for i in range(6):             # Outer Loop\n",
    "    for j in range(i,0,-1):    # inner Loop in reverse order of Outer Loop\n",
    "        print(j, end = \" \")    # Printing the pattern \n",
    "    print()                    # Printing a new Line   "
   ]
  },
  {
   "attachments": {
    "image.png": {
     "image/png": "[encoded data removed]"
    }
   },
   "cell_type": "markdown",
   "id": "funky-concord",
   "metadata": {},
   "source": [
    "![image.png](attachment:image.png)"
   ]
  },
  {
   "cell_type": "markdown",
   "id": "fitting-genre",
   "metadata": {},
   "source": [
    "# Pseudo Code:\n",
    "- \n",
    "### Every row has reverse order, each row is connected to the other.\n",
    "- \n",
    "### We can use three variables start, stop and current_num to achieve this.\n",
    "- \n",
    "### initialize three variables: start = 1, stop = 2, current_num = stop\n",
    "- \n",
    "### we start our outer loop from 2 because we need to decreasing order of values in every row.\n",
    "- \n",
    "### Inner loop will commence from start till stop and we decrement the current_num in inner loop\n",
    "- \n",
    "### Now we print the pattern by printing current_num, which will print 1 in first iteration and exit the loop\n",
    "- \n",
    "### Then we print a new line. \n",
    "- \n",
    "### Final step is to reset the variables for printing next row, hence we need 3,2 to be printed and we set our start = stop hence start becomes 2. Stop should be incremented by row as we know that every row is reverse continuation of previous row and current_num will now be set to stop to print the required pattern. "
   ]
  },
  {
   "cell_type": "code",
   "execution_count": 60,
   "id": "practical-ceramic",
   "metadata": {},
   "outputs": [
    {
     "name": "stdout",
     "output_type": "stream",
     "text": [
      "1 \n",
      "3 2 \n",
      "6 5 4 \n",
      "10 9 8 7 \n"
     ]
    }
   ],
   "source": [
    "start = 1                               # initializing start\n",
    "stop = 2                                # initializing stop\n",
    "current_num = stop                      # setting the current_num, will use this to print pattern\n",
    "\n",
    "for row in range(2,6):                  # Outer loop starting from 2, to avoid prining 0\n",
    "    for col in range(start, stop):      # inner loop is from start to stop         \n",
    "        current_num -= 1                # decrementing current_num by 1 as every row has decreasing pattern of numbers\n",
    "        print(current_num, end = \" \")   # printing the pattern    \n",
    "    print()                             # for next line    \n",
    "    start = stop                        # incrementing start using stop \n",
    "    stop += row                         # incrementing stop by i as we know every row is connected with previous row \n",
    "    current_num = stop                  # finally reseting the loop by setting current_num to stop"
   ]
  },
  {
   "attachments": {
    "image.png": {
     "image/png": "[encoded data removed]"
    }
   },
   "cell_type": "markdown",
   "id": "grave-listing",
   "metadata": {},
   "source": [
    "![image.png](attachment:image.png)"
   ]
  },
  {
   "cell_type": "markdown",
   "id": "constant-anatomy",
   "metadata": {},
   "source": [
    "# Pseudo Code: \n",
    "## we use 3 algorithms to solve this  pascal triangle\n",
    "- \n",
    "### 1. when col and row are same we get 1.\n",
    "- \n",
    "### 2. when we have col = 0 we get 1.\n",
    "- \n",
    "### 3. Between number = sum of [[ one left number on the previous row and above col of the previous row ]]\n",
    "\n",
    "    - \n",
    "    #### for (1) and (2) we use IF statetment and describe (3) in ELSE Statement\n",
    "    - \n",
    "    #### We use list slicing to achieve the step (3)\n",
    "    - \n",
    "    #### Finally when we have all the algorithm in place we use temp_list to store for loop results and finally append the temp_list to the pre defined list1\n",
    "    - \n",
    "    #### Use pattern printing method to print the list1 as required Pattern"
   ]
  },
  {
   "cell_type": "code",
   "execution_count": 63,
   "id": "thermal-triangle",
   "metadata": {},
   "outputs": [
    {
     "name": "stdout",
     "output_type": "stream",
     "text": [
      "1 \n",
      "1 1 \n",
      "1 2 1 \n",
      "1 3 3 1 \n",
      "1 4 6 4 1 \n",
      "1 5 10 10 5 1 \n",
      "1 6 15 20 15 6 1 \n"
     ]
    }
   ],
   "source": [
    "list1 = []                                                    # created an empty list to store final resultant list\n",
    "for i in range(7):                                               \n",
    "    temp_list = []                                            # creating temp list\n",
    "    for j in range(i+1):\n",
    "        if j == 0 or j == i:                                  # row and col are same and when col = 0 we get 1\n",
    "            temp_list.append(1)                               # appending 1 to the temp_list        \n",
    "        else:                                                 # Using else Statement for algorithm (3)\n",
    "            temp_list.append(list1[i-1][j-1] + list1[i-1][j]) # Using list slicing to generate the pascal triangle number \n",
    "    list1.append(temp_list)                                   # Appending the results to final list\n",
    "\n",
    "    \n",
    "# using simple printing method to print the required pattern from temp list1 (FINAL list)\n",
    "for i in range(0,7):\n",
    "    for j in range(i+1):\n",
    "        print(list1[i][j], end = \" \")\n",
    "    print()\n",
    "            \n"
   ]
  },
  {
   "attachments": {
    "image.png": {
     "image/png": "[encoded data removed]"
    }
   },
   "cell_type": "markdown",
   "id": "vulnerable-simulation",
   "metadata": {},
   "source": [
    "![image.png](attachment:image.png)"
   ]
  },
  {
   "cell_type": "markdown",
   "id": "fewer-holmes",
   "metadata": {},
   "source": [
    "# Pseudo Code:\n",
    "- \n",
    "### when row_number (i) is smaller than column_number (j)\n",
    "  - \n",
    "       #### column_number is displayed.\n",
    "-  \n",
    "### when column_number is smaller than or equal to row_number :\n",
    "   - \n",
    "       #### row_number is displayed"
   ]
  },
  {
   "cell_type": "code",
   "execution_count": 66,
   "id": "simple-aquatic",
   "metadata": {},
   "outputs": [
    {
     "name": "stdout",
     "output_type": "stream",
     "text": [
      "1 2 3 4 5 \n",
      "2 2 3 4 5 \n",
      "3 3 3 4 5 \n",
      "4 4 4 4 5 \n",
      "5 5 5 5 5 \n"
     ]
    }
   ],
   "source": [
    "for i in range(1,6):            # starting for loop from 1 to avoid printing 0\n",
    "    for j in range(1,6):        # Inner Loop for printing pattern but we don't use i as range here as we need square pattern \n",
    "        if i < j:               # column_num is bigger, hence display col_num\n",
    "            print(j, end = \" \") # printing col_num\n",
    "        else:                    \n",
    "            print(i, end= \" \")  # else: print row_num\n",
    "    print()                     # Printint a new line"
   ]
  },
  {
   "attachments": {
    "image.png": {
     "image/png": "[encoded data removed]"
    }
   },
   "cell_type": "markdown",
   "id": "vulnerable-ivory",
   "metadata": {},
   "source": [
    "![image.png](attachment:image.png)"
   ]
  },
  {
   "cell_type": "markdown",
   "id": "geographic-state",
   "metadata": {},
   "source": [
    "# Pseudo Code:\n",
    "- \n",
    "### Numbers in pattern are multiplication of row and column\n",
    "- \n",
    "### Structure of this pattern is similar to previous patterns"
   ]
  },
  {
   "cell_type": "code",
   "execution_count": 67,
   "id": "dependent-chambers",
   "metadata": {},
   "outputs": [
    {
     "name": "stdout",
     "output_type": "stream",
     "text": [
      "1 \n",
      "2 4 \n",
      "3 6 9 \n",
      "4 8 12 16 \n",
      "5 10 15 20 25 \n",
      "6 12 18 24 30 36 \n",
      "7 14 21 28 35 42 49 \n",
      "8 16 24 32 40 48 56 64 \n"
     ]
    }
   ],
   "source": [
    "for i in range(1, 9):                # Outer Loop\n",
    "    for j in range(1,i+1):           # Inner Loop we want till i hence used (i+1)\n",
    "        print(i*j, end = \" \")        # multiplying row and column, and printing the pattern\n",
    "    print()                          # Print new line"
   ]
  },
  {
   "attachments": {
    "image.png": {
     "image/png": "[encoded data removed]"
    }
   },
   "cell_type": "markdown",
   "id": "engaged-silly",
   "metadata": {},
   "source": [
    "![image.png](attachment:image.png)"
   ]
  },
  {
   "cell_type": "markdown",
   "id": "metallic-buddy",
   "metadata": {},
   "source": [
    "# Pseudo Code:\n",
    "- \n",
    "### Reverse right angle pattern \n",
    "- \n",
    "### Reverse the rows range\n",
    "- \n",
    "### Also we observe small space on the all the rows except for row_num 1, i.e. when row_range = 6.\n",
    "- \n",
    "### Therefore we use IF ELSE to achieve this small space concept"
   ]
  },
  {
   "cell_type": "code",
   "execution_count": 68,
   "id": "interesting-vietnam",
   "metadata": {},
   "outputs": [
    {
     "name": "stdout",
     "output_type": "stream",
     "text": [
      "* * * * * * \n",
      " * * * * *\n",
      " * * * *\n",
      " * * *\n",
      " * *\n",
      " *\n"
     ]
    }
   ],
   "source": [
    "for i in range(6,0,-1):           # Reverse Outer Loop\n",
    "    for j in range(i):            # Inner loop for printing the pattern, values are changing according to the outer loop\n",
    "        if i == 6:                # Using IF for extra space observed in required Pattern\n",
    "            print(\"*\", end = \" \") # printing the required pattern\n",
    "        else:\n",
    "            print(\" *\", end =\"\")\n",
    "    print()                       # Printing the new line"
   ]
  },
  {
   "attachments": {
    "image.png": {
     "image/png": "[encoded data removed]"
    }
   },
   "cell_type": "markdown",
   "id": "worldwide-penetration",
   "metadata": {},
   "source": [
    "![image.png](attachment:image.png)"
   ]
  },
  {
   "cell_type": "markdown",
   "id": "connected-december",
   "metadata": {},
   "source": [
    "# Pseudo Code:\n",
    "- \n",
    "### Right angle triangle pattern\n",
    "- \n",
    "### Also we observe small space on the all the rows except for row_num 1, i.e. when row_range = 1.\n",
    "- \n",
    "### Therefore we use IF ELSE to achieve this small space concept"
   ]
  },
  {
   "cell_type": "code",
   "execution_count": 69,
   "id": "consistent-texture",
   "metadata": {},
   "outputs": [
    {
     "name": "stdout",
     "output_type": "stream",
     "text": [
      "* \n",
      " * *\n",
      " * * *\n",
      " * * * *\n",
      " * * * * *\n",
      " * * * * * *\n",
      " * * * * * * *\n"
     ]
    }
   ],
   "source": [
    "for i in range(7):                # Outer Loop\n",
    "    for j in range(i+1):          # Inner loop for printing the pattern, values are changing according to the outer loop\n",
    "        if i == 0:                # Using IF for extra space observed in required Pattern\n",
    "            print(\"*\", end = \" \") # printing the required pattern\n",
    "        else:\n",
    "            print(\" *\", end = \"\")\n",
    "    print()                       # Printing the new line"
   ]
  },
  {
   "attachments": {
    "image.png": {
     "image/png": "[encoded data removed]"
    }
   },
   "cell_type": "markdown",
   "id": "turkish-steps",
   "metadata": {},
   "source": [
    "![image.png](attachment:image.png)"
   ]
  },
  {
   "cell_type": "markdown",
   "id": "looking-efficiency",
   "metadata": {},
   "source": [
    "# Pseudo Code:\n",
    "- \n",
    "### Two triangles hence, execute code for two triangles \n",
    "- \n",
    "### First code normal pattern prining\n",
    "- \n",
    "### Second code reverse the row_range to invert the pattern\n",
    "- \n",
    "### Give extra line space between both algorithm"
   ]
  },
  {
   "cell_type": "code",
   "execution_count": 70,
   "id": "going-continuity",
   "metadata": {},
   "outputs": [
    {
     "name": "stdout",
     "output_type": "stream",
     "text": [
      "* \n",
      "* * \n",
      "* * * \n",
      "* * * * \n",
      "* * * * * \n",
      "* * * * * * \n",
      "\n",
      "* * * * * * \n",
      "* * * * * \n",
      "* * * * \n",
      "* * * \n",
      "* * \n",
      "* \n"
     ]
    }
   ],
   "source": [
    "# Triangle 1:\n",
    "for i in range(1,7):              # Outer Loop\n",
    "    for j in range(i):            # Inner loop for printing the pattern, values are changing according to the outer loop\n",
    "        print(\"*\", end = \" \")     # printing the required pattern\n",
    "    print()                       # Printing the new line\n",
    "    \n",
    "print()                           # Printing Additional Line to separate out two triangles\n",
    "\n",
    "# Triangle 2:\n",
    "for i in range(6, 0,-1):          # Reverse Outer Loop\n",
    "    for j in range(i):            # Inner loop for printing the pattern, values are changing according to the outer loop\n",
    "        print(\"*\", end = \" \")     # printing the required pattern\n",
    "    print()                       # Printing the new line"
   ]
  },
  {
   "attachments": {
    "image.png": {
     "image/png": "[encoded data removed]"
    }
   },
   "cell_type": "markdown",
   "id": "noted-stations",
   "metadata": {},
   "source": [
    "![image.png](attachment:image.png)"
   ]
  },
  {
   "cell_type": "markdown",
   "id": "fatty-valve",
   "metadata": {},
   "source": [
    "# Pseudo Code:\n",
    "- \n",
    "### Two joint right angled trianlges\n",
    "- \n",
    "### Code for straight fwd right angled triangle pattern\n",
    "- \n",
    "### Code for reversed right angled triangle pattern, by inversing the range of row_range\n",
    "- \n",
    "### Attach them by removing the last line of pattern from first pattern or removing the first line from second pattern."
   ]
  },
  {
   "cell_type": "code",
   "execution_count": 71,
   "id": "serious-better",
   "metadata": {},
   "outputs": [
    {
     "name": "stdout",
     "output_type": "stream",
     "text": [
      "* \n",
      "* * \n",
      "* * * \n",
      "* * * * \n",
      "* * * * * \n",
      "* * * * \n",
      "* * * \n",
      "* * \n",
      "* \n"
     ]
    }
   ],
   "source": [
    "# Triangle 1:\n",
    "for i in range(1,6):            # Outer Loop\n",
    "    for j in range(i):          # Inner loop for printing the pattern, values are changing according to the outer loop\n",
    "        print(\"*\", end = \" \")   # printing the required pattern\n",
    "    print()                     # Printing the new line\n",
    "# Triangle 2:\n",
    "for i in range(4,0,-1):         # Reverse Outer Loop\n",
    "    for j in range(i):          # Inner loop for printing the pattern, values are changing according to the outer loop\n",
    "        print(\"*\", end = \" \")   # printing the required pattern\n",
    "    print()                     # Printing the new line"
   ]
  },
  {
   "attachments": {
    "image.png": {
     "image/png": "[encoded data removed]"
    }
   },
   "cell_type": "markdown",
   "id": "spatial-exception",
   "metadata": {},
   "source": [
    "![image.png](attachment:image.png)"
   ]
  },
  {
   "cell_type": "markdown",
   "id": "suffering-vessel",
   "metadata": {},
   "source": [
    "# Pseudo Code:\n",
    "- \n",
    "### Similar joint triangle pattern \n",
    "- \n",
    "### 1st and 5th row have different spaces\n",
    "- \n",
    "### Except for 1st row of first pattern and 6th row of second pattern print all rows with a space, just to mimic the pattern"
   ]
  },
  {
   "cell_type": "code",
   "execution_count": 72,
   "id": "objective-timer",
   "metadata": {
    "scrolled": true
   },
   "outputs": [
    {
     "name": "stdout",
     "output_type": "stream",
     "text": [
      "* \n",
      " * *\n",
      " * * *\n",
      " * * * *\n",
      "* * * * * * \n",
      " * * * * *\n",
      " * * * *\n",
      " * * *\n",
      " * *\n",
      " *\n"
     ]
    }
   ],
   "source": [
    "for i in range(1,5):                # Outer Loop\n",
    "    for j in range(i):              # Inner loop for printing the pattern, values are changing according to the outer loop\n",
    "        if i == 1:                  # Using IF for extra space observed in required Pattern\n",
    "            print(\"*\", end = \" \")   # printing the required pattern\n",
    "        else:\n",
    "            print(\" *\", end = \"\")\n",
    "    print()                         # Printing the new line\n",
    "for i in range(6, 0,-1):            # Reverse Outer Loop\n",
    "    for j in range(i):              # Inner loop for printing the pattern, values are changing according to the outer loop\n",
    "        if i == 6:                  # Using IF for extra space observed in required Pattern\n",
    "            print(\"*\", end = \" \")   # printing the required pattern\n",
    "        else:\n",
    "            print(\" *\", end = \"\")\n",
    "    print()                         # Printing the new line"
   ]
  },
  {
   "attachments": {
    "image.png": {
     "image/png": "[encoded data removed]"
    }
   },
   "cell_type": "markdown",
   "id": "champion-myanmar",
   "metadata": {},
   "source": [
    "![image.png](attachment:image.png)"
   ]
  },
  {
   "cell_type": "markdown",
   "id": "blind-adolescent",
   "metadata": {},
   "source": [
    "# Pseudo Code:\n",
    "- \n",
    "### Two triangles connected inversely.\n",
    "- \n",
    "### First code the Reverse triangle  \n",
    "- \n",
    "### Code Normal triangle at bottom\n",
    "- \n",
    "### Except for first and last row of both trianlges respectively print all other rows with a space to mimic the pattern."
   ]
  },
  {
   "cell_type": "code",
   "execution_count": 73,
   "id": "criminal-kitty",
   "metadata": {},
   "outputs": [
    {
     "name": "stdout",
     "output_type": "stream",
     "text": [
      "* * * * * \n",
      " * * * *\n",
      " * * *\n",
      " * *\n",
      " *\n",
      " *\n",
      " * *\n",
      " * * *\n",
      " * * * *\n",
      "* * * * * \n"
     ]
    }
   ],
   "source": [
    "for i in range(5,0,-1):            # Reverse Outer Loop\n",
    "    for j in range(i):             # Inner loop for printing the pattern, values are changing according to the outer loop\n",
    "        if i==5:                   # Using IF for extra space observed in required Pattern\n",
    "            print(\"*\", end = \" \")  # printing the required pattern\n",
    "        else:\n",
    "            print(\" *\", end = \"\")\n",
    "            \n",
    "    print()                        # Printing the new line\n",
    "for i in range(1,6):               # Outer Loop\n",
    "    for j in range(i):             # Inner loop for printing the pattern, values are changing according to the outer loop\n",
    "        if i == 5:                 # Using IF for extra space observed in required Pattern\n",
    "            print(\"*\", end = \" \")  # printing the required pattern\n",
    "        else:\n",
    "            print(\" *\", end = \"\")\n",
    "    print()                        # Printing the new line"
   ]
  },
  {
   "attachments": {
    "image.png": {
     "image/png": "[encoded data removed]"
    }
   },
   "cell_type": "markdown",
   "id": "japanese-location",
   "metadata": {},
   "source": [
    "![image.png](attachment:image.png)"
   ]
  },
  {
   "cell_type": "markdown",
   "id": "republican-flight",
   "metadata": {},
   "source": [
    "# Pseudo Code:\n",
    "- \n",
    "### Print * num_columns times, to get the first horizontal line of *\n",
    "-  \n",
    "### we will use While loop: \n",
    "   - \n",
    "   #### hence create variables for While loop conditions \n",
    "   - \n",
    "   #### i variable represents number of times * to be printed. Half i and subtract 1 from it so as to print * i times twice\n",
    "   - \n",
    "   #### j represents number of times _ to be printed. Set j = 2 print _ Starts with 2 times\n",
    "   - \n",
    "   #### i i.e. number of * decreases with every row\n",
    "   - \n",
    "   #### j i.e. number if _ increases by 2 with every row \n",
    "- \n",
    "### We print * i times followed by _ j times followed by * i times\n",
    "- \n",
    "### Finally increment and decrement these variables accordingly.\n"
   ]
  },
  {
   "cell_type": "code",
   "execution_count": 74,
   "id": "governmental-association",
   "metadata": {},
   "outputs": [
    {
     "name": "stdout",
     "output_type": "stream",
     "text": [
      "****************\n",
      "*******__*******\n",
      "******____******\n",
      "*****______*****\n",
      "****________****\n",
      "***__________***\n",
      "**____________**\n",
      "*______________*\n"
     ]
    }
   ],
   "source": [
    "# printing the first row\n",
    "for i in range(16):                # For loop for printing first row of *s\n",
    "    print(\"*\", end = \"\")\n",
    "print()\n",
    "i = (16//2) - 1                    # Initializing i: Halving i and subtracting 1 from it so as to print * i times twice\n",
    "j = 2                              # Initializing j: to print _ Starts with 2 times\n",
    "while i != 0:                      # While loop to ensure the loop stops when i = 1   \n",
    "    while j<= 16-2:                # While loop to ensure j is never more than (num of columns)- 2 (i.e. our last row)        \n",
    "        print(\"*\" * i, end = '')   # printing * i times\n",
    "        print(\"_\" * j, end = '')   # printing _ j times\n",
    "        print(\"*\" * i)             # printing * i times again\n",
    "        i = i - 1                  # i (*) decreases by 1 with every row increase\n",
    "        j = j + 2                  # j (_) increases by 2 with every row increase"
   ]
  }
 ],
 "metadata": {
  "kernelspec": {
   "display_name": "Python 3",
   "language": "python",
   "name": "python3"
  },
  "language_info": {
   "codemirror_mode": {
    "name": "ipython",
    "version": 3
   },
   "file_extension": ".py",
   "mimetype": "text/x-python",
   "name": "python",
   "nbconvert_exporter": "python",
   "pygments_lexer": "ipython3",
   "version": "3.8.5"
  }
 },
 "nbformat": 4,
 "nbformat_minor": 5
}
