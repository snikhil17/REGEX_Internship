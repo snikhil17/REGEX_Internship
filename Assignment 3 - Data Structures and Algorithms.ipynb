{
 "cells": [
  {
   "cell_type": "markdown",
   "id": "ad07b2a1",
   "metadata": {},
   "source": [
    "# REGex Software Services\n",
    "- **Machine Learning and Deep Learning Training/Internship**\n",
    "\n",
    "# Assignment 3\n",
    "- **Author: Nikhil Shrestha**\n",
    "- **Referral ID : AIRSS1129**"
   ]
  },
  {
   "cell_type": "markdown",
   "id": "93a3ad88",
   "metadata": {},
   "source": [
    "# Questions\n",
    "- **Write a function to return nth term of Fibonacci sequence.**\n",
    "- **Write a function to find out GCD of two numbers using EUCLID'S algorithm.**\n",
    "- **Write a function to find LCM of two number in most optimizers way.**"
   ]
  },
  {
   "cell_type": "markdown",
   "id": "2411569c",
   "metadata": {},
   "source": [
    "## Write a function to return nth term of Fibonacci sequence."
   ]
  },
  {
   "cell_type": "code",
   "execution_count": 1,
   "id": "666f8e33",
   "metadata": {},
   "outputs": [
    {
     "name": "stdout",
     "output_type": "stream",
     "text": [
      "Please enter a number: 6\n"
     ]
    },
    {
     "data": {
      "text/plain": [
       "'6th Fibonacci number is: 8'"
      ]
     },
     "execution_count": 1,
     "metadata": {},
     "output_type": "execute_result"
    }
   ],
   "source": [
    "def fib_nth_term(x):\n",
    "    \"\"\"Input: Integer for generating that many Fibonacci sequences.\n",
    "    Output: Returns the nth term of the fibonacci series generated\"\"\"\n",
    "    fib_table = [0,1]                                      # Taking care of 1st and 2nd number.\n",
    "    for i in range(2, x+1):\n",
    "        fib_table.append(fib_table[i-2] + fib_table[i-1])  # creating loop for 3rd till input number. Adding previous 2 numbers\n",
    "    return \"{a}th Fibonacci number is: {b}\".format(a = (x) , b=fib_table[x])\n",
    "\n",
    "x = int(input(\"Please enter a number: \"))                  \n",
    "fib_nth_term(x)"
   ]
  },
  {
   "cell_type": "code",
   "execution_count": 2,
   "id": "696e8863",
   "metadata": {},
   "outputs": [
    {
     "name": "stdout",
     "output_type": "stream",
     "text": [
      "Enter first number for finding GCD: 15\n",
      "Enter second number for finding GCD: 36\n"
     ]
    },
    {
     "data": {
      "text/plain": [
       "3"
      ]
     },
     "execution_count": 2,
     "metadata": {},
     "output_type": "execute_result"
    }
   ],
   "source": [
    "\"\"\"Write a function to find out GCD of two numbers using EUCLID'S algorithm.\"\"\"\n",
    "\n",
    "\"\"\"\n",
    "The Euclidean Algorithm for finding GCD(m,n) is as follows:\n",
    "1. Consider GCD(m,n) with assumption m > n. \n",
    "2. When we write m in quotient remainder form we get (m = n⋅Q + r)\n",
    "3. When computed mathematically we can proove that there exist a number 'd' which divides m,n and also the r, \n",
    "which is the reminder of m and n\n",
    "4. Hence, the algorithm we get is if n doesn't divide m, then set r = m%n and finally return GCD(n,r). \n",
    "\n",
    "\"\"\"\n",
    "\n",
    "def GCD_euclid(m,n):\n",
    "#     Let's consider m > n, if not swap them\n",
    "    if m < n: \n",
    "        (m,n) = (n,m)\n",
    "    \"\"\"\n",
    "    Consider the fact that 'd' divides m and n, hence it will divide the reminder of m and n which is (m%n) say 'r'\n",
    "    Hence, 'd' will be the gcd of \"n\" and \"r\"\n",
    "    \"\"\"\n",
    "    while m%n != 0:                  \n",
    "        (m,n) = (n,m%n)\n",
    "    return n\n",
    "\n",
    "m= int(input(\"Enter first number for finding GCD: \"))\n",
    "n= int(input(\"Enter second number for finding GCD: \"))\n",
    "GCD_euclid(m, n)\n",
    "# GCD_euclid(15, 36)\n"
   ]
  },
  {
   "cell_type": "code",
   "execution_count": 3,
   "id": "4aa05331",
   "metadata": {},
   "outputs": [
    {
     "data": {
      "text/plain": [
       "180.0"
      ]
     },
     "execution_count": 3,
     "metadata": {},
     "output_type": "execute_result"
    }
   ],
   "source": [
    "\"\"\"Write a function to find LCM of two number in most optimizers way.\"\"\"\n",
    "\n",
    "\"\"\"\n",
    "We have this proof in mathematics:\n",
    "    GCD(m,n) * LCM(m,n) = m*n\n",
    "    Therefore we can say that LCM(m,n) = m*n / GCD(m,n)\n",
    "\"\"\"\n",
    "# Define the best Opetimized GCD and use to compute LCM\n",
    "def GCD_euclid(m,n):\n",
    "#     Let's consider m > n, if not swap them\n",
    "    if m < n: \n",
    "        (m,n) = (n,m)\n",
    "    \"\"\"\n",
    "    Consider the fact that 'd' divides m and n, hence it will divide the reminder of m and n which is (say)'r'\n",
    "    Hence, 'd' will be the gcd of \"n\" and \"r\"\n",
    "    \"\"\"\n",
    "    while m%n != 0:\n",
    "        (m,n) = (n,m%n)\n",
    "    return n\n",
    "\n",
    "\n",
    "def best_LCM(m,n):\n",
    "    return (m*n)/GCD_euclid(m,n)\n",
    "\n",
    "best_LCM(15,36)"
   ]
  }
 ],
 "metadata": {
  "kernelspec": {
   "display_name": "Python 3",
   "language": "python",
   "name": "python3"
  },
  "language_info": {
   "codemirror_mode": {
    "name": "ipython",
    "version": 3
   },
   "file_extension": ".py",
   "mimetype": "text/x-python",
   "name": "python",
   "nbconvert_exporter": "python",
   "pygments_lexer": "ipython3",
   "version": "3.8.8"
  }
 },
 "nbformat": 4,
 "nbformat_minor": 5
}
