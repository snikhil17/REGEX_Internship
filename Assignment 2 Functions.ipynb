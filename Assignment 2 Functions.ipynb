{
 "cells": [
  {
   "cell_type": "markdown",
   "id": "acoustic-diamond",
   "metadata": {},
   "source": [
    "# Questions:\n",
    "- **Q1. Write a lambda expression to extract first word of a string.**\n",
    "- **Q2. Write a function to extract first word of s string (with many words separated by space).**\n",
    "- **Q3. Extract the first word from every string from a list of strings by using map function.**\n",
    "- **Q4. Write a function to return a list of prime factors of a given number.**\n",
    "- **Q5. Write a function that finds 2nd largest among 4 numbers (Repetitions are allowed, without sorting).**"
   ]
  },
  {
   "cell_type": "markdown",
   "id": "destroyed-fifty",
   "metadata": {},
   "source": [
    "## Q1. Write a lambda expression to extract first word of a string."
   ]
  },
  {
   "cell_type": "code",
   "execution_count": 5,
   "id": "dense-syndication",
   "metadata": {},
   "outputs": [
    {
     "name": "stdout",
     "output_type": "stream",
     "text": [
      "Enter a string of words: How much wood would a woodchuck chuck if a woodchuck could chuck wood?\n"
     ]
    },
    {
     "data": {
      "text/plain": [
       "'How'"
      ]
     },
     "execution_count": 5,
     "metadata": {},
     "output_type": "execute_result"
    }
   ],
   "source": [
    "first_letter = lambda s : s.split()[0] # using simple lambda \n",
    "s =  input(\"Enter a string of words: \")\n",
    "\n",
    "first_letter(s)"
   ]
  },
  {
   "cell_type": "markdown",
   "id": "detected-riding",
   "metadata": {},
   "source": [
    "## Q2. Write a function to extract first word of s string (with many words separated by space)."
   ]
  },
  {
   "cell_type": "code",
   "execution_count": 2,
   "id": "backed-marina",
   "metadata": {
    "scrolled": true
   },
   "outputs": [
    {
     "name": "stdout",
     "output_type": "stream",
     "text": [
      "Enter string of words: How much wood would a woodchuck chuck if a woodchuck could chuck wood?\n",
      "Outcome of the function:  How\n"
     ]
    }
   ],
   "source": [
    "def first_letter(sentence):\n",
    "    return sentence.split()[0]\n",
    "\n",
    "string_s = input(\"Enter string of words: \")\n",
    "print(\"Outcome of the function: \",first_letter(string_s))"
   ]
  },
  {
   "cell_type": "markdown",
   "id": "raised-regression",
   "metadata": {},
   "source": [
    "## Q3. Extract the first word from every string from a list of strings by using map function.\n"
   ]
  },
  {
   "cell_type": "code",
   "execution_count": 43,
   "id": "clinical-poultry",
   "metadata": {},
   "outputs": [
    {
     "data": {
      "text/plain": [
       "['Peter', 'peck', 'How', 'peppers']"
      ]
     },
     "execution_count": 43,
     "metadata": {},
     "output_type": "execute_result"
    }
   ],
   "source": [
    "words = [\"Peter Piper picked a\", \"peck of pickled peppers.\", \"How many pickled\", \"peppers did Peter Piper pick?\"]\n",
    "list(map(first_letter, words))"
   ]
  },
  {
   "cell_type": "markdown",
   "id": "pleased-buddy",
   "metadata": {},
   "source": [
    "## Q4. Write a function to return a list of prime factors of a given number."
   ]
  },
  {
   "cell_type": "code",
   "execution_count": 4,
   "id": "gothic-boost",
   "metadata": {},
   "outputs": [
    {
     "name": "stdout",
     "output_type": "stream",
     "text": [
      "Enter a number: 30\n"
     ]
    },
    {
     "data": {
      "text/plain": [
       "[2, 3, 5]"
      ]
     },
     "execution_count": 4,
     "metadata": {},
     "output_type": "execute_result"
    }
   ],
   "source": [
    "#creating a function for finding out factors\n",
    "def factors(x):\n",
    "    fac = []                               # Creating a new list fac, which will contain all the factors of the given number\n",
    "    for i in range(1,x+1):                 # Creating a for loop from 1 to num+1 as factors starts from 1.\n",
    "        if x%i == 0:                       # if the number in the loop is perfectly divisible by iterative number.\n",
    "            fac += [i]                     # We add the number to the fac list\n",
    "    return fac                             # Finally return fac list.\n",
    "\n",
    "\n",
    "# Creating a function for checking if the number is prime or not\n",
    "def is_prime(x):\n",
    "    if factors(x) == [1,x]:                # Defining prime here: If factors function gets only 1, number then its a prime.\n",
    "        return True\n",
    "    elif x == 1:                           # 1 is not a prime\n",
    "        return False\n",
    "    else:\n",
    "        return False                       # Other numbers are not prime.\n",
    "\n",
    "# Final function for finding prime factors of a number\n",
    "def prime_factors(x):\n",
    "    fac = factors(x)                       # created a list fac = factors(x), now we have a list of all the factors of number \n",
    "    prime_fac = []                         # Created an empty list which will contain prime_factors of given number\n",
    "    for i in fac:                          # Loop over the factors list and append only those numbers which are prime \n",
    "        if is_prime(i):                     \n",
    "            prime_fac += [i]\n",
    "    return prime_fac                       # Finally return the list of prime factors\n",
    "\n",
    "num = int(input(\"Enter a number: \"))       # Asking user's input\n",
    "prime_factors(num)                         # Calling prime_factors on the user input number."
   ]
  },
  {
   "cell_type": "markdown",
   "id": "attended-cuisine",
   "metadata": {},
   "source": [
    "## Q5. Write a function that finds 2nd largest among 4 numbers (Repetitions are allowed, without sorting).\n"
   ]
  },
  {
   "cell_type": "code",
   "execution_count": 18,
   "id": "several-composition",
   "metadata": {},
   "outputs": [
    {
     "name": "stdout",
     "output_type": "stream",
     "text": [
      "enter a number: 6\n",
      "enter a number: 6\n",
      "enter a number: 8\n",
      "enter a number: 4\n",
      "6\n"
     ]
    }
   ],
   "source": [
    "def second_largest(l):\n",
    "    set_from_list = set(l)                                   # Converting the list to set to take care of repeated values\n",
    "    set_from_list.remove(max(set_from_list))                 # Remove the maximum from the list \n",
    "    second_last_value = max(set_from_list)                   # now the maximum will be the second last value\n",
    "    print(second_last_value)                                 # finally we print second last value from the list\n",
    "    \n",
    "nums = [int(input(\"enter a number: \")) for num in range(4)]  # Creating a list comprehension for asking user input for 4 numbers\n",
    "second_largest(nums)                                         # Finally calling the function on the user inputs"
   ]
  }
 ],
 "metadata": {
  "kernelspec": {
   "display_name": "Python 3",
   "language": "python",
   "name": "python3"
  },
  "language_info": {
   "codemirror_mode": {
    "name": "ipython",
    "version": 3
   },
   "file_extension": ".py",
   "mimetype": "text/x-python",
   "name": "python",
   "nbconvert_exporter": "python",
   "pygments_lexer": "ipython3",
   "version": "3.8.5"
  }
 },
 "nbformat": 4,
 "nbformat_minor": 5
}
