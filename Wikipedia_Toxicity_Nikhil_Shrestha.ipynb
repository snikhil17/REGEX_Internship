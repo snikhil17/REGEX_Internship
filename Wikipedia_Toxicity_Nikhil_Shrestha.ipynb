{
  "nbformat": 4,
  "nbformat_minor": 0,
  "metadata": {
    "colab": {
      "name": "Wikipedia_Toxicity_Nikhil_Shrestha.ipynb",
      "provenance": [],
      "collapsed_sections": []
    },
    "kernelspec": {
      "name": "python3",
      "display_name": "Python 3"
    },
    "language_info": {
      "name": "python"
    }
  },
  "cells": [
    {
      "cell_type": "markdown",
      "source": [
        "## **Problem Context**\n",
        "#### **Description:** \n",
        "- Using NLP and machine learning, make a model to identify toxic comments from the Talk edit pages on Wikipedia. Help identify the words that make a comment toxic.\n",
        "\n",
        "#### **Statement:**  \n",
        "- Wikipedia is the world’s largest and most popular reference work on the internet with about 500 million unique visitors per month. It also has millions of contributors who can make edits to pages. The Talk edit pages, the key community interaction forum where the contributing community interacts or discusses or debates about the changes pertaining to a particular topic. \n",
        "  - Wikipedia continuously strives to help online discussion become more productive and respectful. You are a data scientist at Wikipedia who will help Wikipedia to build a predictive model that identifies toxic comments in the discussion and marks them for cleanup by using NLP and machine learning. Post that, help identify the top terms from the toxic comments. \n",
        "\n",
        "#### **Analysis to be done:**\n",
        "- Build a text classification model using NLP and machine learning that detects toxic comments.\n",
        "\n",
        "#### **Data Dictionary:** \n",
        "- id: identifier number of the comment\n",
        "- comment_text: the text in the comment\n",
        "- toxic: 0 (non-toxic) / 1 (toxic)\n",
        "\n",
        "#### **Steps to perform:**\n",
        "- Cleanup the text data, using TF-IDF convert to vector space representation, use Support Vector Machines to detect toxic comments. \n",
        "- Finally, get the list of top 15 toxic terms from the comments identified by the model.\n",
        "\n",
        "#### **Sub-Tasks:** \n",
        "- Load the data using read_csv function from pandas package\n",
        "- Get the comments into a list, for easy text cleanup and manipulation\n",
        "- Cleanup: \n",
        "  - Using regular expressions, remove IP addresses\n",
        "  - Using regular expressions, remove URLs\n",
        "  - Normalize the casing\n",
        "  - Tokenize using word_tokenize from NLTK\n",
        "  - Remove stop words\n",
        "  - Remove punctuation\n",
        "  - Define a function to perform all these steps, you’ll use this later on the actual test set\n",
        "- Using a counter, find the top terms in the data.\n",
        "  - Can any of these be considered contextual stop words?\n",
        "  - Words like “Wikipedia”, “page”, “edit” are examples of contextual stop words\n",
        "  - If yes, drop these from the data\n",
        "- Separate into train and test sets\n",
        "  - Use train-test method to divide your data into 2 sets: train and test\n",
        "  - Use a 70-30 split\n",
        "- Use TF-IDF values for the terms as feature to get into a vector space model\n",
        "  - Import TF-IDF vectorizer from sklearn\n",
        "  - Instantiate with a maximum of 4000 terms in your vocabulary\n",
        "  - Fit and apply on the train set\n",
        "  - Apply on the test set\n",
        "- Model building: Support Vector Machine\n",
        "  - Instantiate SVC from sklearn with a linear kernel\n",
        "  - Fit on the train data\n",
        "  - Make predictions for the train and the test set\n",
        "- Model evaluation: Accuracy, recall, and f1_score\n",
        "  - Report the accuracy on the train set\n",
        "  - Report the recall on the train set:decent, high, low?\n",
        "  - Get the f1_score on the train set\n",
        "- Looks like you need to adjust  the class imbalance, as the model seems to focus on the 0s\n",
        "  - Adjust the appropriate parameter in the SVC module\n",
        "- Train again with the adjustment and evaluate\n",
        "  - Train the model on the train set\n",
        "  - Evaluate the predictions on the validation set: accuracy, recall, f1_score\n",
        "- Hyperparameter tuning\n",
        "  - Import GridSearch and StratifiedKFold (because of class imbalance)\n",
        "  - Provide the parameter grid to choose for ‘C’\n",
        "  - Use a balanced class weight while instantiating the Support Vector Classifier\n",
        "- Find the parameters with the best recall in cross validation\n",
        "  - Choose ‘recall’ as the metric for scoring\n",
        "  - Choose stratified 5 fold cross validation scheme\n",
        "  - Fit on the train set\n",
        "- What are the best parameters?\n",
        "- Predict and evaluate using the best estimator\n",
        "  - Use best estimator from the grid search to make predictions on the test set\n",
        "  - What is the recall on the test set for the toxic comments?\n",
        "  - What is the f1_score?\n",
        "- What are the most prominent terms in the toxic comments?\n",
        "  - Separate the comments from the test set that the model identified as toxic\n",
        "  - Make one large list of the terms\n",
        "  - Get the top 15 terms\n",
        "\n",
        "\n",
        "\n",
        "\n",
        "\n",
        "\n",
        "\n",
        "\n",
        "\n",
        "\n"
      ],
      "metadata": {
        "id": "5DQT91bM5LJw"
      }
    },
    {
      "cell_type": "markdown",
      "source": [
        "## **Aquire the data**"
      ],
      "metadata": {
        "id": "3v_6qQentBr8"
      }
    },
    {
      "cell_type": "code",
      "metadata": {
        "colab": {
          "base_uri": "https://localhost:8080/"
        },
        "id": "DDpBXBsnR9nQ",
        "outputId": "4479b999-b000-497f-ae1e-b54e8ad9f8ef"
      },
      "source": [
        "!wget https://raw.githubusercontent.com/snikhil17/NLP_course_Simplilearn/main/capstone_project/train.csv"
      ],
      "execution_count": null,
      "outputs": [
        {
          "output_type": "stream",
          "name": "stdout",
          "text": [
            "--2021-12-09 12:23:29--  https://raw.githubusercontent.com/snikhil17/NLP_course_Simplilearn/main/capstone_project/train.csv\n",
            "Resolving raw.githubusercontent.com (raw.githubusercontent.com)... 185.199.108.133, 185.199.109.133, 185.199.110.133, ...\n",
            "Connecting to raw.githubusercontent.com (raw.githubusercontent.com)|185.199.108.133|:443... connected.\n",
            "HTTP request sent, awaiting response... 200 OK\n",
            "Length: 2102032 (2.0M) [text/plain]\n",
            "Saving to: ‘train.csv’\n",
            "\n",
            "train.csv           100%[===================>]   2.00M  --.-KB/s    in 0.06s   \n",
            "\n",
            "2021-12-09 12:23:29 (33.4 MB/s) - ‘train.csv’ saved [2102032/2102032]\n",
            "\n"
          ]
        }
      ]
    },
    {
      "cell_type": "markdown",
      "source": [
        "## **Loading required Libraries**"
      ],
      "metadata": {
        "id": "MVjSjpoqs9Ca"
      }
    },
    {
      "cell_type": "code",
      "source": [
        "! python3 -m spacy download en_core_web_sm"
      ],
      "metadata": {
        "id": "mbXB0WRy5qLH"
      },
      "execution_count": null,
      "outputs": []
    },
    {
      "cell_type": "code",
      "metadata": {
        "id": "YRvrIUoEV9jp",
        "colab": {
          "base_uri": "https://localhost:8080/"
        },
        "outputId": "1fcc8f14-1374-4fda-e13e-1b415e55f9f2"
      },
      "source": [
        "import pandas as pd\n",
        "import numpy as np\n",
        "import nltk\n",
        "import matplotlib.pyplot as plt\n",
        "import re\n",
        "nltk.download('punkt')\n",
        "nltk.download('wordnet')\n",
        "nltk.download('averaged_perceptron_tagger')\n",
        "\n",
        "from nltk.corpus import wordnet\n",
        "import string\n",
        "from nltk.stem import WordNetLemmatizer\n",
        "\n",
        "nltk.download('words')\n",
        "\n",
        "from nltk.corpus import stopwords\n",
        "nltk.download('stopwords')\n",
        "\n",
        "from sklearn.feature_extraction.text import CountVectorizer, TfidfVectorizer\n",
        "import spacy\n",
        "nlp = spacy.load('en_core_web_sm')\n",
        "\n",
        "\n",
        "from sklearn.model_selection import train_test_split\n",
        "from sklearn.svm import SVC\n",
        "from sklearn import metrics\n",
        "from sklearn.model_selection import GridSearchCV, StratifiedKFold"
      ],
      "execution_count": 1,
      "outputs": [
        {
          "output_type": "stream",
          "name": "stdout",
          "text": [
            "[nltk_data] Downloading package punkt to /root/nltk_data...\n",
            "[nltk_data]   Unzipping tokenizers/punkt.zip.\n",
            "[nltk_data] Downloading package wordnet to /root/nltk_data...\n",
            "[nltk_data]   Unzipping corpora/wordnet.zip.\n",
            "[nltk_data] Downloading package averaged_perceptron_tagger to\n",
            "[nltk_data]     /root/nltk_data...\n",
            "[nltk_data]   Unzipping taggers/averaged_perceptron_tagger.zip.\n",
            "[nltk_data] Downloading package words to /root/nltk_data...\n",
            "[nltk_data]   Unzipping corpora/words.zip.\n",
            "[nltk_data] Downloading package stopwords to /root/nltk_data...\n",
            "[nltk_data]   Unzipping corpora/stopwords.zip.\n"
          ]
        }
      ]
    },
    {
      "cell_type": "code",
      "metadata": {
        "colab": {
          "base_uri": "https://localhost:8080/",
          "height": 206
        },
        "id": "edo-jgY2VlV6",
        "outputId": "330f1821-cf59-4833-97d4-95cb6c58785f"
      },
      "source": [
        "df = pd.read_csv('train.csv')\n",
        "df.head()"
      ],
      "execution_count": 19,
      "outputs": [
        {
          "output_type": "execute_result",
          "data": {
            "text/html": [
              "\n",
              "  <div id=\"df-ba0c88c2-2193-411a-9a21-c75e571ff9ee\">\n",
              "    <div class=\"colab-df-container\">\n",
              "      <div>\n",
              "<style scoped>\n",
              "    .dataframe tbody tr th:only-of-type {\n",
              "        vertical-align: middle;\n",
              "    }\n",
              "\n",
              "    .dataframe tbody tr th {\n",
              "        vertical-align: top;\n",
              "    }\n",
              "\n",
              "    .dataframe thead th {\n",
              "        text-align: right;\n",
              "    }\n",
              "</style>\n",
              "<table border=\"1\" class=\"dataframe\">\n",
              "  <thead>\n",
              "    <tr style=\"text-align: right;\">\n",
              "      <th></th>\n",
              "      <th>id</th>\n",
              "      <th>comment_text</th>\n",
              "      <th>toxic</th>\n",
              "    </tr>\n",
              "  </thead>\n",
              "  <tbody>\n",
              "    <tr>\n",
              "      <th>0</th>\n",
              "      <td>e617e2489abe9bca</td>\n",
              "      <td>\"\\r\\n\\r\\n A barnstar for you! \\r\\n\\r\\n  The De...</td>\n",
              "      <td>0</td>\n",
              "    </tr>\n",
              "    <tr>\n",
              "      <th>1</th>\n",
              "      <td>9250cf637294e09d</td>\n",
              "      <td>\"\\r\\n\\r\\nThis seems unbalanced.  whatever I ha...</td>\n",
              "      <td>0</td>\n",
              "    </tr>\n",
              "    <tr>\n",
              "      <th>2</th>\n",
              "      <td>ce1aa4592d5240ca</td>\n",
              "      <td>Marya Dzmitruk was born in Minsk, Belarus in M...</td>\n",
              "      <td>0</td>\n",
              "    </tr>\n",
              "    <tr>\n",
              "      <th>3</th>\n",
              "      <td>48105766ff7f075b</td>\n",
              "      <td>\"\\r\\n\\r\\nTalkback\\r\\n\\r\\n Dear Celestia...  \"</td>\n",
              "      <td>0</td>\n",
              "    </tr>\n",
              "    <tr>\n",
              "      <th>4</th>\n",
              "      <td>0543d4f82e5470b6</td>\n",
              "      <td>New Categories \\r\\n\\r\\nI honestly think that w...</td>\n",
              "      <td>0</td>\n",
              "    </tr>\n",
              "  </tbody>\n",
              "</table>\n",
              "</div>\n",
              "      <button class=\"colab-df-convert\" onclick=\"convertToInteractive('df-ba0c88c2-2193-411a-9a21-c75e571ff9ee')\"\n",
              "              title=\"Convert this dataframe to an interactive table.\"\n",
              "              style=\"display:none;\">\n",
              "        \n",
              "  <svg xmlns=\"http://www.w3.org/2000/svg\" height=\"24px\"viewBox=\"0 0 24 24\"\n",
              "       width=\"24px\">\n",
              "    <path d=\"M0 0h24v24H0V0z\" fill=\"none\"/>\n",
              "    <path d=\"M18.56 5.44l.94 2.06.94-2.06 2.06-.94-2.06-.94-.94-2.06-.94 2.06-2.06.94zm-11 1L8.5 8.5l.94-2.06 2.06-.94-2.06-.94L8.5 2.5l-.94 2.06-2.06.94zm10 10l.94 2.06.94-2.06 2.06-.94-2.06-.94-.94-2.06-.94 2.06-2.06.94z\"/><path d=\"M17.41 7.96l-1.37-1.37c-.4-.4-.92-.59-1.43-.59-.52 0-1.04.2-1.43.59L10.3 9.45l-7.72 7.72c-.78.78-.78 2.05 0 2.83L4 21.41c.39.39.9.59 1.41.59.51 0 1.02-.2 1.41-.59l7.78-7.78 2.81-2.81c.8-.78.8-2.07 0-2.86zM5.41 20L4 18.59l7.72-7.72 1.47 1.35L5.41 20z\"/>\n",
              "  </svg>\n",
              "      </button>\n",
              "      \n",
              "  <style>\n",
              "    .colab-df-container {\n",
              "      display:flex;\n",
              "      flex-wrap:wrap;\n",
              "      gap: 12px;\n",
              "    }\n",
              "\n",
              "    .colab-df-convert {\n",
              "      background-color: #E8F0FE;\n",
              "      border: none;\n",
              "      border-radius: 50%;\n",
              "      cursor: pointer;\n",
              "      display: none;\n",
              "      fill: #1967D2;\n",
              "      height: 32px;\n",
              "      padding: 0 0 0 0;\n",
              "      width: 32px;\n",
              "    }\n",
              "\n",
              "    .colab-df-convert:hover {\n",
              "      background-color: #E2EBFA;\n",
              "      box-shadow: 0px 1px 2px rgba(60, 64, 67, 0.3), 0px 1px 3px 1px rgba(60, 64, 67, 0.15);\n",
              "      fill: #174EA6;\n",
              "    }\n",
              "\n",
              "    [theme=dark] .colab-df-convert {\n",
              "      background-color: #3B4455;\n",
              "      fill: #D2E3FC;\n",
              "    }\n",
              "\n",
              "    [theme=dark] .colab-df-convert:hover {\n",
              "      background-color: #434B5C;\n",
              "      box-shadow: 0px 1px 3px 1px rgba(0, 0, 0, 0.15);\n",
              "      filter: drop-shadow(0px 1px 2px rgba(0, 0, 0, 0.3));\n",
              "      fill: #FFFFFF;\n",
              "    }\n",
              "  </style>\n",
              "\n",
              "      <script>\n",
              "        const buttonEl =\n",
              "          document.querySelector('#df-ba0c88c2-2193-411a-9a21-c75e571ff9ee button.colab-df-convert');\n",
              "        buttonEl.style.display =\n",
              "          google.colab.kernel.accessAllowed ? 'block' : 'none';\n",
              "\n",
              "        async function convertToInteractive(key) {\n",
              "          const element = document.querySelector('#df-ba0c88c2-2193-411a-9a21-c75e571ff9ee');\n",
              "          const dataTable =\n",
              "            await google.colab.kernel.invokeFunction('convertToInteractive',\n",
              "                                                     [key], {});\n",
              "          if (!dataTable) return;\n",
              "\n",
              "          const docLinkHtml = 'Like what you see? Visit the ' +\n",
              "            '<a target=\"_blank\" href=https://colab.research.google.com/notebooks/data_table.ipynb>data table notebook</a>'\n",
              "            + ' to learn more about interactive tables.';\n",
              "          element.innerHTML = '';\n",
              "          dataTable['output_type'] = 'display_data';\n",
              "          await google.colab.output.renderOutput(dataTable, element);\n",
              "          const docLink = document.createElement('div');\n",
              "          docLink.innerHTML = docLinkHtml;\n",
              "          element.appendChild(docLink);\n",
              "        }\n",
              "      </script>\n",
              "    </div>\n",
              "  </div>\n",
              "  "
            ],
            "text/plain": [
              "                 id                                       comment_text  toxic\n",
              "0  e617e2489abe9bca  \"\\r\\n\\r\\n A barnstar for you! \\r\\n\\r\\n  The De...      0\n",
              "1  9250cf637294e09d  \"\\r\\n\\r\\nThis seems unbalanced.  whatever I ha...      0\n",
              "2  ce1aa4592d5240ca  Marya Dzmitruk was born in Minsk, Belarus in M...      0\n",
              "3  48105766ff7f075b      \"\\r\\n\\r\\nTalkback\\r\\n\\r\\n Dear Celestia...  \"      0\n",
              "4  0543d4f82e5470b6  New Categories \\r\\n\\r\\nI honestly think that w...      0"
            ]
          },
          "metadata": {},
          "execution_count": 19
        }
      ]
    },
    {
      "cell_type": "markdown",
      "metadata": {
        "id": "KeYgp7HjhCrD"
      },
      "source": [
        "## **Cleaning Helper Functions** \n",
        "- **Function for decontracted and removing IP adresses and other expressions using Regex**\n",
        "  - words like don't , won't etc will be converted to do not, will not etc.\n",
        "  - Emojis, additional lines, email-addresses, website names etc are removed here.\n",
        "- **Removed words like ``no, not, nor`` from english stopwords**\n",
        "- **Removing Non-English Words**\n",
        "  - whatever words nltk corpus has, if given word is in that corpus we will consider the word, else replace with blank.\n",
        "- **Removing Contextual Stopwords**\n",
        "  - Using POS-tagging feature of Spacy, removed words which were Pronoun, punctuation, number, adverb  etc.\n",
        "  - Lemmatizing th words and checking if the given word exist in the list of words needs to be removed (contextual words: obtained after checking the word counts)\n",
        "- **Remaining Preprocessing of text**\n",
        "  - Combining all the above functions to use as analyzer in TF-IDF vectorizer. "
      ]
    },
    {
      "cell_type": "code",
      "metadata": {
        "id": "8keMqDZhV7Hd"
      },
      "source": [
        "\"\"\"Functions to clean text using Regex\"\"\"\n",
        "ip_addr_regex = re.compile(r'\\b(?:[0-9]{1,3}\\.){3}[0-9]{1,3}\\b')\n",
        "emoji_pattern = re.compile(\"[\"\n",
        "        u\"\\U0001F600-\\U0001F64F\"  # emoticons\n",
        "        u\"\\U0001F300-\\U0001F5FF\"  # symbols & pictographs\n",
        "        u\"\\U0001F680-\\U0001F6FF\"  # transport & map symbols\n",
        "        u\"\\U0001F1E0-\\U0001F1FF\"  # flags (iOS)\n",
        "                           \"]+\", flags=re.UNICODE)\n",
        "def regex_cleaning(phrase):\n",
        "    # specific\n",
        "    phrase = re.sub(r\"won\\'t\", \"will not\", phrase)\n",
        "    phrase = re.sub(r\"can\\'t\", \"can not\", phrase)\n",
        "\n",
        "    # general\n",
        "    phrase = re.sub(r\"n\\'t\", \" not\", phrase)\n",
        "    phrase = re.sub(r\"\\'re\", \" are\", phrase)\n",
        "    phrase = re.sub(r\"\\'s\", \" is\", phrase)\n",
        "    phrase = re.sub(r\"\\'d\", \" would\", phrase)\n",
        "    phrase = re.sub(r\"\\'ll\", \" will\", phrase)\n",
        "    phrase = re.sub(r\"\\'t\", \" not\", phrase)\n",
        "    phrase = re.sub(r\"\\'ve\", \" have\", phrase)\n",
        "    phrase = re.sub(r\"\\'m\", \" am\", phrase)\n",
        "    phrase = re.sub(r\"[^a-zA-Z0-9]+\", \" \", phrase)\n",
        "    phrase = re.sub(r\"\\r\\n\", \"\", phrase)            # Removing additional line\n",
        "    phrase = re.sub(r\"\\n\", \"\", phrase)              # Removing additional line \n",
        "    phrase = re.sub(r\"\\S*@\\S*\\s?\", \"\", phrase)      # Removing email-addresses \n",
        "    phrase = re.sub(r'http\\S+', '', phrase)         # Removing website links\n",
        "    phrase = re.sub(ip_addr_regex, \"\", phrase)      # Removing IP address link.\n",
        "    phrase = emoji_pattern.sub(r'', phrase)         # Removing Emojis\n",
        "    \n",
        "    return phrase.lower() \n",
        "\n",
        "\"\"\"Ammending Stopwords list\"\"\"\n",
        "stop_words = stopwords.words('english')\n",
        "for i in ['nor', 'not', 'no']:\n",
        "  stop_words.remove(i)\n",
        "\n",
        "\"\"\"Removing Non-English Words\"\"\"\n",
        "nltk_words = set(nltk.corpus.words.words())\n",
        "def only_eng(row):\n",
        "  for word in row:\n",
        "    if word in nltk_words or not word.isalpha():\n",
        "      word = word\n",
        "    else:\n",
        "      word = \"\"\n",
        "  return row\n",
        "\n",
        "# \"\"\"Helper function for lemmatization_check\"\"\"\n",
        "def get_wordnet_pos(tag):\n",
        "    if tag.startswith('J'):\n",
        "        return wordnet.ADJ\n",
        "    elif tag.startswith('V'):\n",
        "        return wordnet.VERB\n",
        "    elif tag.startswith('N'):\n",
        "        return wordnet.NOUN\n",
        "    elif tag.startswith('R'):\n",
        "        return wordnet.ADV\n",
        "    else:\n",
        "        return wordnet.NOUN\n",
        "\n",
        "# \"\"\"Extracting Lemmatized word to take care that words like page, paged, pages can be removed at once.\"\"\"\n",
        "\n",
        "def lemmatization_check(word):\n",
        "  word_pos = nltk.pos_tag(word)\n",
        "  lemma_word = lemmaObject.lemmatize(word,get_wordnet_pos(word))\n",
        "  return lemma_word\n",
        "\n",
        "\"\"\"Removing Contextual Stopwords\"\"\"\n",
        "# 'ADJ',\n",
        "lemmaObject = WordNetLemmatizer()\n",
        "pos_taggings_to_remove = ['DET', 'ADP','ADV','AUX', 'SCONJ',  'INTJ','PUNCT', 'NUM',  'SPACE', 'X']\n",
        "some_words_to_remove = ['you', 'wikipedia', 'wiki' ,'edit', 'page', 'would', 'article', 'articles','page', 'edits', 'user']\n",
        "def remove_contextual_stopwords(row):\n",
        "  row= row.lower()  \n",
        "  final_row = []\n",
        "  row = \"\".join([lemmaObject.lemmatize(word[0],get_wordnet_pos(word[1])) for word in nltk.pos_tag(row)])\n",
        "  row = nlp(row)\n",
        "  for word in row:    \n",
        "    if word.pos_ not in pos_taggings_to_remove and word.text not in some_words_to_remove:\n",
        "      final_row.append(word.text)\n",
        "    else:\n",
        "      continue\n",
        "  return \" \".join(final_row)\n",
        "\n",
        "\"\"\"Remaining Preprocessing of text\"\"\"\n",
        "def final_preprocessing(document):\n",
        "  document_regex_cleaned = regex_cleaning(document)\n",
        "  noNonEnglishWords = only_eng(document_regex_cleaned)\n",
        "  words = [\" \".join(nltk.word_tokenize(title)) for title in noNonEnglishWords.split()]                                         # Word Tokenization0\n",
        "  wordWithoutStopwords = [word for word in words if word not in stop_words if len(word) > 3]                                   # Remove Stopwords\n",
        "  vocabulary = \" \".join([char for char in wordWithoutStopwords if char not in string.punctuation ])                            # Remove Punctuations\n",
        "  noContextualStopwords = remove_contextual_stopwords(vocabulary)                                                              # Remove Contextual Stopwords\n",
        "  return noContextualStopwords.split()                                                                                         # Returning lemmatized-Vocabulary"
      ],
      "execution_count": 20,
      "outputs": []
    },
    {
      "cell_type": "markdown",
      "source": [
        "## **Using Helper functions to clean the data**"
      ],
      "metadata": {
        "id": "KKfz1Z1adprJ"
      }
    },
    {
      "cell_type": "code",
      "source": [
        "df['cleaned_text'] = df['comment_text'].apply(regex_cleaning)  # Cleaning using Regex"
      ],
      "metadata": {
        "id": "_J6GkxPnWeT0"
      },
      "execution_count": 21,
      "outputs": []
    },
    {
      "cell_type": "code",
      "source": [
        "df['cleaned_text'] = df['comment_text'].apply(only_eng)  # Selecting Only English words"
      ],
      "metadata": {
        "id": "EHZFyPPheApa"
      },
      "execution_count": 22,
      "outputs": []
    },
    {
      "cell_type": "markdown",
      "source": [
        "## **Contextual Stop words**\n",
        "- Creating a for loop to store all the comments into a single list:\n",
        "- In terms of Preprocessing only steps used are remove words less than 3 characters and removed stopwords\n",
        "- The result is stored in a dictionary, where key is word and value is frequency of the word. \n",
        "- This dictionary is convered into DataFrame to observe most frequent words and using that decision is made about selecting **Contextual Stop Words**"
      ],
      "metadata": {
        "id": "w1-C8Eh0msb7"
      }
    },
    {
      "cell_type": "code",
      "source": [
        "freq_dict ={}\n",
        "text_list = [text for text in df['comment_text']]\n",
        "for sentence in text_list:\n",
        "  for word in sentence.split(): \n",
        "    \n",
        "    if word in freq_dict.keys() and len(word) > 3 and word not in stopwords.words('english'):\n",
        "      freq_dict[word] += 1\n",
        "\n",
        "    if word not in freq_dict.keys() and len(word) > 3 and word not in stopwords.words('english'):\n",
        "      freq_dict[word] = 1\n",
        "\n",
        "\n",
        "count_df = pd.DataFrame( freq_dict.values(), freq_dict.keys()).reset_index().rename({0: \"Frequency\", \"index\": \"Words\"}, axis =1)\n",
        "count_df.sort_values(by = 'Frequency', ascending = False)[:15]"
      ],
      "metadata": {
        "colab": {
          "base_uri": "https://localhost:8080/",
          "height": 520
        },
        "id": "8HOwT_ngfwel",
        "outputId": "fbc65767-344b-42da-a69e-c65b60ddce65"
      },
      "execution_count": 23,
      "outputs": [
        {
          "output_type": "execute_result",
          "data": {
            "text/html": [
              "\n",
              "  <div id=\"df-f342bc0b-9bbd-4a3b-8446-23021e756249\">\n",
              "    <div class=\"colab-df-container\">\n",
              "      <div>\n",
              "<style scoped>\n",
              "    .dataframe tbody tr th:only-of-type {\n",
              "        vertical-align: middle;\n",
              "    }\n",
              "\n",
              "    .dataframe tbody tr th {\n",
              "        vertical-align: top;\n",
              "    }\n",
              "\n",
              "    .dataframe thead th {\n",
              "        text-align: right;\n",
              "    }\n",
              "</style>\n",
              "<table border=\"1\" class=\"dataframe\">\n",
              "  <thead>\n",
              "    <tr style=\"text-align: right;\">\n",
              "      <th></th>\n",
              "      <th>Words</th>\n",
              "      <th>Frequency</th>\n",
              "    </tr>\n",
              "  </thead>\n",
              "  <tbody>\n",
              "    <tr>\n",
              "      <th>14</th>\n",
              "      <td>article</td>\n",
              "      <td>1137</td>\n",
              "    </tr>\n",
              "    <tr>\n",
              "      <th>54</th>\n",
              "      <td>would</td>\n",
              "      <td>931</td>\n",
              "    </tr>\n",
              "    <tr>\n",
              "      <th>446</th>\n",
              "      <td>page</td>\n",
              "      <td>924</td>\n",
              "    </tr>\n",
              "    <tr>\n",
              "      <th>5</th>\n",
              "      <td>like</td>\n",
              "      <td>764</td>\n",
              "    </tr>\n",
              "    <tr>\n",
              "      <th>718</th>\n",
              "      <td>ass.</td>\n",
              "      <td>682</td>\n",
              "    </tr>\n",
              "    <tr>\n",
              "      <th>584</th>\n",
              "      <td>talk</td>\n",
              "      <td>652</td>\n",
              "    </tr>\n",
              "    <tr>\n",
              "      <th>684</th>\n",
              "      <td>fuck</td>\n",
              "      <td>592</td>\n",
              "    </tr>\n",
              "    <tr>\n",
              "      <th>94</th>\n",
              "      <td>think</td>\n",
              "      <td>589</td>\n",
              "    </tr>\n",
              "    <tr>\n",
              "      <th>570</th>\n",
              "      <td>Please</td>\n",
              "      <td>575</td>\n",
              "    </tr>\n",
              "    <tr>\n",
              "      <th>589</th>\n",
              "      <td>Wikipedia</td>\n",
              "      <td>544</td>\n",
              "    </tr>\n",
              "    <tr>\n",
              "      <th>800</th>\n",
              "      <td>know</td>\n",
              "      <td>500</td>\n",
              "    </tr>\n",
              "    <tr>\n",
              "      <th>29</th>\n",
              "      <td>This</td>\n",
              "      <td>464</td>\n",
              "    </tr>\n",
              "    <tr>\n",
              "      <th>188</th>\n",
              "      <td>also</td>\n",
              "      <td>453</td>\n",
              "    </tr>\n",
              "    <tr>\n",
              "      <th>6</th>\n",
              "      <td>edit</td>\n",
              "      <td>451</td>\n",
              "    </tr>\n",
              "    <tr>\n",
              "      <th>85</th>\n",
              "      <td>people</td>\n",
              "      <td>422</td>\n",
              "    </tr>\n",
              "  </tbody>\n",
              "</table>\n",
              "</div>\n",
              "      <button class=\"colab-df-convert\" onclick=\"convertToInteractive('df-f342bc0b-9bbd-4a3b-8446-23021e756249')\"\n",
              "              title=\"Convert this dataframe to an interactive table.\"\n",
              "              style=\"display:none;\">\n",
              "        \n",
              "  <svg xmlns=\"http://www.w3.org/2000/svg\" height=\"24px\"viewBox=\"0 0 24 24\"\n",
              "       width=\"24px\">\n",
              "    <path d=\"M0 0h24v24H0V0z\" fill=\"none\"/>\n",
              "    <path d=\"M18.56 5.44l.94 2.06.94-2.06 2.06-.94-2.06-.94-.94-2.06-.94 2.06-2.06.94zm-11 1L8.5 8.5l.94-2.06 2.06-.94-2.06-.94L8.5 2.5l-.94 2.06-2.06.94zm10 10l.94 2.06.94-2.06 2.06-.94-2.06-.94-.94-2.06-.94 2.06-2.06.94z\"/><path d=\"M17.41 7.96l-1.37-1.37c-.4-.4-.92-.59-1.43-.59-.52 0-1.04.2-1.43.59L10.3 9.45l-7.72 7.72c-.78.78-.78 2.05 0 2.83L4 21.41c.39.39.9.59 1.41.59.51 0 1.02-.2 1.41-.59l7.78-7.78 2.81-2.81c.8-.78.8-2.07 0-2.86zM5.41 20L4 18.59l7.72-7.72 1.47 1.35L5.41 20z\"/>\n",
              "  </svg>\n",
              "      </button>\n",
              "      \n",
              "  <style>\n",
              "    .colab-df-container {\n",
              "      display:flex;\n",
              "      flex-wrap:wrap;\n",
              "      gap: 12px;\n",
              "    }\n",
              "\n",
              "    .colab-df-convert {\n",
              "      background-color: #E8F0FE;\n",
              "      border: none;\n",
              "      border-radius: 50%;\n",
              "      cursor: pointer;\n",
              "      display: none;\n",
              "      fill: #1967D2;\n",
              "      height: 32px;\n",
              "      padding: 0 0 0 0;\n",
              "      width: 32px;\n",
              "    }\n",
              "\n",
              "    .colab-df-convert:hover {\n",
              "      background-color: #E2EBFA;\n",
              "      box-shadow: 0px 1px 2px rgba(60, 64, 67, 0.3), 0px 1px 3px 1px rgba(60, 64, 67, 0.15);\n",
              "      fill: #174EA6;\n",
              "    }\n",
              "\n",
              "    [theme=dark] .colab-df-convert {\n",
              "      background-color: #3B4455;\n",
              "      fill: #D2E3FC;\n",
              "    }\n",
              "\n",
              "    [theme=dark] .colab-df-convert:hover {\n",
              "      background-color: #434B5C;\n",
              "      box-shadow: 0px 1px 3px 1px rgba(0, 0, 0, 0.15);\n",
              "      filter: drop-shadow(0px 1px 2px rgba(0, 0, 0, 0.3));\n",
              "      fill: #FFFFFF;\n",
              "    }\n",
              "  </style>\n",
              "\n",
              "      <script>\n",
              "        const buttonEl =\n",
              "          document.querySelector('#df-f342bc0b-9bbd-4a3b-8446-23021e756249 button.colab-df-convert');\n",
              "        buttonEl.style.display =\n",
              "          google.colab.kernel.accessAllowed ? 'block' : 'none';\n",
              "\n",
              "        async function convertToInteractive(key) {\n",
              "          const element = document.querySelector('#df-f342bc0b-9bbd-4a3b-8446-23021e756249');\n",
              "          const dataTable =\n",
              "            await google.colab.kernel.invokeFunction('convertToInteractive',\n",
              "                                                     [key], {});\n",
              "          if (!dataTable) return;\n",
              "\n",
              "          const docLinkHtml = 'Like what you see? Visit the ' +\n",
              "            '<a target=\"_blank\" href=https://colab.research.google.com/notebooks/data_table.ipynb>data table notebook</a>'\n",
              "            + ' to learn more about interactive tables.';\n",
              "          element.innerHTML = '';\n",
              "          dataTable['output_type'] = 'display_data';\n",
              "          await google.colab.output.renderOutput(dataTable, element);\n",
              "          const docLink = document.createElement('div');\n",
              "          docLink.innerHTML = docLinkHtml;\n",
              "          element.appendChild(docLink);\n",
              "        }\n",
              "      </script>\n",
              "    </div>\n",
              "  </div>\n",
              "  "
            ],
            "text/plain": [
              "         Words  Frequency\n",
              "14     article       1137\n",
              "54       would        931\n",
              "446       page        924\n",
              "5         like        764\n",
              "718       ass.        682\n",
              "584       talk        652\n",
              "684       fuck        592\n",
              "94       think        589\n",
              "570     Please        575\n",
              "589  Wikipedia        544\n",
              "800       know        500\n",
              "29        This        464\n",
              "188       also        453\n",
              "6         edit        451\n",
              "85      people        422"
            ]
          },
          "metadata": {},
          "execution_count": 23
        }
      ]
    },
    {
      "cell_type": "markdown",
      "source": [
        "## **Observations:**\n",
        "---\n",
        "- We can clearly see that words like **page, wikipedia, edit** show up in top 15 words (in terms of frequency).\n",
        "- We can easily call these words as **Contextual Stop-words** and remove such words from our corpus.\n",
        "- Using Part of Speech, certain POS (Adjective, Pronoun, Number, Pronoun, Punctuation) words are removed as they are also be considered as **Contextual Stop Words** \n",
        "\n",
        "### **Using remove_contextual_stopwords function:**\n",
        "---\n",
        "- Remove Contextual words from corpus.\n"
      ],
      "metadata": {
        "id": "TGmhVFcRmckB"
      }
    },
    {
      "cell_type": "code",
      "source": [
        "%%time\n",
        "df['cleaned_text'] = df['comment_text'].apply(remove_contextual_stopwords) # Removing Contextual Stopwords"
      ],
      "metadata": {
        "id": "8HlGKAAieL31",
        "colab": {
          "base_uri": "https://localhost:8080/"
        },
        "outputId": "3405789c-4c1c-4759-dfaf-27e75ddf44d4"
      },
      "execution_count": 24,
      "outputs": [
        {
          "output_type": "stream",
          "name": "stdout",
          "text": [
            "CPU times: user 4min 28s, sys: 1.96 s, total: 4min 29s\n",
            "Wall time: 4min 31s\n"
          ]
        }
      ]
    },
    {
      "cell_type": "markdown",
      "source": [
        "## **Let's check the most-frequent words now:**\n",
        "- Same method as used above"
      ],
      "metadata": {
        "id": "0IqQAjLVsioU"
      }
    },
    {
      "cell_type": "code",
      "source": [
        "freq_dict ={}\n",
        "text_list = [text for text in df['cleaned_text']]\n",
        "for sentence in text_list:\n",
        "  for word in sentence.split(): \n",
        "    \n",
        "    if word in freq_dict.keys() and len(word) > 3 and word not in stopwords.words('english'):\n",
        "      freq_dict[word] += 1\n",
        "\n",
        "    if word not in freq_dict.keys() and len(word) > 3 and word not in stopwords.words('english'):\n",
        "      freq_dict[word] = 1\n",
        "\n",
        "\n",
        "count_df = pd.DataFrame( freq_dict.values(), freq_dict.keys()).reset_index().rename({0: \"Frequency\", \"index\": \"Words\"}, axis =1)\n",
        "count_df.sort_values(by = 'Frequency', ascending = False)[:15]"
      ],
      "metadata": {
        "colab": {
          "base_uri": "https://localhost:8080/",
          "height": 520
        },
        "id": "aZuLxFCgso3V",
        "outputId": "53f18e2d-ae00-4591-a495-d30d88f65d74"
      },
      "execution_count": 25,
      "outputs": [
        {
          "output_type": "execute_result",
          "data": {
            "text/html": [
              "\n",
              "  <div id=\"df-012762df-46ee-4a69-926d-284879d9552d\">\n",
              "    <div class=\"colab-df-container\">\n",
              "      <div>\n",
              "<style scoped>\n",
              "    .dataframe tbody tr th:only-of-type {\n",
              "        vertical-align: middle;\n",
              "    }\n",
              "\n",
              "    .dataframe tbody tr th {\n",
              "        vertical-align: top;\n",
              "    }\n",
              "\n",
              "    .dataframe thead th {\n",
              "        text-align: right;\n",
              "    }\n",
              "</style>\n",
              "<table border=\"1\" class=\"dataframe\">\n",
              "  <thead>\n",
              "    <tr style=\"text-align: right;\">\n",
              "      <th></th>\n",
              "      <th>Words</th>\n",
              "      <th>Frequency</th>\n",
              "    </tr>\n",
              "  </thead>\n",
              "  <tbody>\n",
              "    <tr>\n",
              "      <th>225</th>\n",
              "      <td>talk</td>\n",
              "      <td>1182</td>\n",
              "    </tr>\n",
              "    <tr>\n",
              "      <th>67</th>\n",
              "      <td>think</td>\n",
              "      <td>630</td>\n",
              "    </tr>\n",
              "    <tr>\n",
              "      <th>418</th>\n",
              "      <td>fuck</td>\n",
              "      <td>629</td>\n",
              "    </tr>\n",
              "    <tr>\n",
              "      <th>45</th>\n",
              "      <td>know</td>\n",
              "      <td>596</td>\n",
              "    </tr>\n",
              "    <tr>\n",
              "      <th>60</th>\n",
              "      <td>people</td>\n",
              "      <td>553</td>\n",
              "    </tr>\n",
              "    <tr>\n",
              "      <th>13</th>\n",
              "      <td>name</td>\n",
              "      <td>540</td>\n",
              "    </tr>\n",
              "    <tr>\n",
              "      <th>62</th>\n",
              "      <td>time</td>\n",
              "      <td>486</td>\n",
              "    </tr>\n",
              "    <tr>\n",
              "      <th>453</th>\n",
              "      <td>thanks</td>\n",
              "      <td>416</td>\n",
              "    </tr>\n",
              "    <tr>\n",
              "      <th>167</th>\n",
              "      <td>could</td>\n",
              "      <td>394</td>\n",
              "    </tr>\n",
              "    <tr>\n",
              "      <th>368</th>\n",
              "      <td>information</td>\n",
              "      <td>393</td>\n",
              "    </tr>\n",
              "    <tr>\n",
              "      <th>1024</th>\n",
              "      <td>deletion</td>\n",
              "      <td>391</td>\n",
              "    </tr>\n",
              "    <tr>\n",
              "      <th>189</th>\n",
              "      <td>make</td>\n",
              "      <td>391</td>\n",
              "    </tr>\n",
              "    <tr>\n",
              "      <th>57</th>\n",
              "      <td>good</td>\n",
              "      <td>377</td>\n",
              "    </tr>\n",
              "    <tr>\n",
              "      <th>2655</th>\n",
              "      <td>suck</td>\n",
              "      <td>375</td>\n",
              "    </tr>\n",
              "    <tr>\n",
              "      <th>961</th>\n",
              "      <td>image</td>\n",
              "      <td>367</td>\n",
              "    </tr>\n",
              "  </tbody>\n",
              "</table>\n",
              "</div>\n",
              "      <button class=\"colab-df-convert\" onclick=\"convertToInteractive('df-012762df-46ee-4a69-926d-284879d9552d')\"\n",
              "              title=\"Convert this dataframe to an interactive table.\"\n",
              "              style=\"display:none;\">\n",
              "        \n",
              "  <svg xmlns=\"http://www.w3.org/2000/svg\" height=\"24px\"viewBox=\"0 0 24 24\"\n",
              "       width=\"24px\">\n",
              "    <path d=\"M0 0h24v24H0V0z\" fill=\"none\"/>\n",
              "    <path d=\"M18.56 5.44l.94 2.06.94-2.06 2.06-.94-2.06-.94-.94-2.06-.94 2.06-2.06.94zm-11 1L8.5 8.5l.94-2.06 2.06-.94-2.06-.94L8.5 2.5l-.94 2.06-2.06.94zm10 10l.94 2.06.94-2.06 2.06-.94-2.06-.94-.94-2.06-.94 2.06-2.06.94z\"/><path d=\"M17.41 7.96l-1.37-1.37c-.4-.4-.92-.59-1.43-.59-.52 0-1.04.2-1.43.59L10.3 9.45l-7.72 7.72c-.78.78-.78 2.05 0 2.83L4 21.41c.39.39.9.59 1.41.59.51 0 1.02-.2 1.41-.59l7.78-7.78 2.81-2.81c.8-.78.8-2.07 0-2.86zM5.41 20L4 18.59l7.72-7.72 1.47 1.35L5.41 20z\"/>\n",
              "  </svg>\n",
              "      </button>\n",
              "      \n",
              "  <style>\n",
              "    .colab-df-container {\n",
              "      display:flex;\n",
              "      flex-wrap:wrap;\n",
              "      gap: 12px;\n",
              "    }\n",
              "\n",
              "    .colab-df-convert {\n",
              "      background-color: #E8F0FE;\n",
              "      border: none;\n",
              "      border-radius: 50%;\n",
              "      cursor: pointer;\n",
              "      display: none;\n",
              "      fill: #1967D2;\n",
              "      height: 32px;\n",
              "      padding: 0 0 0 0;\n",
              "      width: 32px;\n",
              "    }\n",
              "\n",
              "    .colab-df-convert:hover {\n",
              "      background-color: #E2EBFA;\n",
              "      box-shadow: 0px 1px 2px rgba(60, 64, 67, 0.3), 0px 1px 3px 1px rgba(60, 64, 67, 0.15);\n",
              "      fill: #174EA6;\n",
              "    }\n",
              "\n",
              "    [theme=dark] .colab-df-convert {\n",
              "      background-color: #3B4455;\n",
              "      fill: #D2E3FC;\n",
              "    }\n",
              "\n",
              "    [theme=dark] .colab-df-convert:hover {\n",
              "      background-color: #434B5C;\n",
              "      box-shadow: 0px 1px 3px 1px rgba(0, 0, 0, 0.15);\n",
              "      filter: drop-shadow(0px 1px 2px rgba(0, 0, 0, 0.3));\n",
              "      fill: #FFFFFF;\n",
              "    }\n",
              "  </style>\n",
              "\n",
              "      <script>\n",
              "        const buttonEl =\n",
              "          document.querySelector('#df-012762df-46ee-4a69-926d-284879d9552d button.colab-df-convert');\n",
              "        buttonEl.style.display =\n",
              "          google.colab.kernel.accessAllowed ? 'block' : 'none';\n",
              "\n",
              "        async function convertToInteractive(key) {\n",
              "          const element = document.querySelector('#df-012762df-46ee-4a69-926d-284879d9552d');\n",
              "          const dataTable =\n",
              "            await google.colab.kernel.invokeFunction('convertToInteractive',\n",
              "                                                     [key], {});\n",
              "          if (!dataTable) return;\n",
              "\n",
              "          const docLinkHtml = 'Like what you see? Visit the ' +\n",
              "            '<a target=\"_blank\" href=https://colab.research.google.com/notebooks/data_table.ipynb>data table notebook</a>'\n",
              "            + ' to learn more about interactive tables.';\n",
              "          element.innerHTML = '';\n",
              "          dataTable['output_type'] = 'display_data';\n",
              "          await google.colab.output.renderOutput(dataTable, element);\n",
              "          const docLink = document.createElement('div');\n",
              "          docLink.innerHTML = docLinkHtml;\n",
              "          element.appendChild(docLink);\n",
              "        }\n",
              "      </script>\n",
              "    </div>\n",
              "  </div>\n",
              "  "
            ],
            "text/plain": [
              "            Words  Frequency\n",
              "225          talk       1182\n",
              "67          think        630\n",
              "418          fuck        629\n",
              "45           know        596\n",
              "60         people        553\n",
              "13           name        540\n",
              "62           time        486\n",
              "453        thanks        416\n",
              "167         could        394\n",
              "368   information        393\n",
              "1024     deletion        391\n",
              "189          make        391\n",
              "57           good        377\n",
              "2655         suck        375\n",
              "961         image        367"
            ]
          },
          "metadata": {},
          "execution_count": 25
        }
      ]
    },
    {
      "cell_type": "markdown",
      "source": [
        "## **Observation:**\n",
        "- Above result actually makes sense. as most of our data is non-toxic comment, our data now shows that a few toxic words are present in the top 15 most frequenct words.\n"
      ],
      "metadata": {
        "id": "7SblH3pRxyfI"
      }
    },
    {
      "cell_type": "code",
      "metadata": {
        "id": "wGfBGmnVXpcQ"
      },
      "source": [
        "features = df['comment_text'].values\n",
        "labels = df['toxic'].values"
      ],
      "execution_count": 26,
      "outputs": []
    },
    {
      "cell_type": "markdown",
      "metadata": {
        "id": "PmYOSAgqEBl8"
      },
      "source": [
        "## **Let's Try BoW on subset of Data**"
      ]
    },
    {
      "cell_type": "code",
      "metadata": {
        "id": "XeIrLUBuXUlu"
      },
      "source": [
        "# Create BOW in SKlearn\n",
        "wordVector = CountVectorizer(analyzer = final_preprocessing)\n",
        "\n",
        "#Build the Vocabulary\n",
        "finalWordVectorVocab = wordVector.fit(features[:10])\n",
        "\n",
        "# # To create BOW\n",
        "bagOfWords = finalWordVectorVocab.transform(features[:10])"
      ],
      "execution_count": 27,
      "outputs": []
    },
    {
      "cell_type": "code",
      "source": [
        "print(finalWordVectorVocab.get_feature_names_out())"
      ],
      "metadata": {
        "colab": {
          "base_uri": "https://localhost:8080/"
        },
        "id": "76bB2eF9SqvZ",
        "outputId": "15e717fb-4095-4978-8ead-97887622ba80"
      },
      "execution_count": 28,
      "outputs": [
        {
          "output_type": "stream",
          "name": "stdout",
          "text": [
            "['abuse' 'account' 'admin' 'administrative' 'admitted' 'alex' 'american'\n",
            " 'anyone' 'astrological' 'attends' 'attention' 'august' 'awards'\n",
            " 'baranovichi' 'barnstar' 'began' 'behavior' 'belarus' 'belarusfilm'\n",
            " 'best' 'block' 'born' 'brest' 'bring' 'call' 'called' 'can' 'castist'\n",
            " 'categories' 'cause' 'celestia' 'certain' 'characters' 'child' 'children'\n",
            " 'class' 'classes' 'close' 'committee' 'competition' 'continue'\n",
            " 'contribute' 'contributing' 'could' 'course' 'creating' 'dating' 'deals'\n",
            " 'dear' 'deceased' 'decided' 'defender' 'denied' 'deserve' 'diplomas'\n",
            " 'disagree' 'discussion' 'dislike' 'divorced' 'drama' 'dumbhead'\n",
            " 'dunechka' 'dzmitruk' 'editor' 'editors' 'ethinicty' 'expect' 'extreme'\n",
            " 'family' 'father' 'featured' 'filtering' 'first' 'folloing' 'followed'\n",
            " 'fordman' 'form' 'former' 'freak' 'free' 'frequency' 'front' 'good'\n",
            " 'government' 'graduate' 'graduated' 'greater' 'group' 'guess' 'gwern'\n",
            " 'gymnastics' 'hands' 'happy' 'harass' 'held' 'helsinki' 'high' 'higher'\n",
            " 'hippie' 'hits' 'holds' 'human' 'inappropriate' 'ingrid' 'institute'\n",
            " 'intellectuals' 'international' 'isar' 'issue' 'kayastha' 'know' 'known'\n",
            " 'lacy' 'leadership' 'leave' 'lets' 'life' 'like' 'lisa' 'listed' 'looks'\n",
            " 'loser' 'ludwigs2' 'main' 'make' 'malign' 'many' 'march' 'marked' 'marya'\n",
            " 'mathsci' 'matter' 'medal' 'member' 'mention' 'middle' 'minsk' 'months'\n",
            " 'moroz' 'mother' 'move' 'movie' 'music' 'must' 'name' 'need' 'nikolaevna'\n",
            " 'not' 'oceana' 'odessa' 'olga' 'opinion' 'organization' 'others'\n",
            " 'parents' 'people' 'personal' 'pete' 'piano' 'plan' 'play' 'point' 'post'\n",
            " 'problem' 'profit' 'project' 'prone' 'propose' 'public' 'punished' 'quit'\n",
            " 'racist' 'reason' 'reign' 'relationship' 'remarried' 'request' 'research'\n",
            " 'riding' 'rights' 'ross' 'rude' 'ruth' 'said' 'says' 'scholarships'\n",
            " 'school' 'schools' 'second' 'section' 'seems' 'seen' 'sense' 'september'\n",
            " 'several' 'show' 'shows' 'sites' 'situations' 'society' 'solidarity'\n",
            " 'source' 'spaces' 'spector' 'spring' 'standards' 'starred' 'start'\n",
            " 'started' 'states' 'stop' 'subject' 'talk' 'talkback' 'television'\n",
            " 'theatre' 'things' 'think' 'time' 'told' 'traveled' 'trying' 'turned'\n",
            " 'uifkearca' 'ukraine' 'unbalanced' 'united' 'unpleasant' 'used' 'violin'\n",
            " 'warned' 'went' 'whitney' 'willing' 'works' 'world' 'worse' 'years'\n",
            " 'youth']\n"
          ]
        }
      ]
    },
    {
      "cell_type": "markdown",
      "source": [
        "## **Train-Test Split and instantiating TF-IDF Vectorizer:**\n",
        "- Used **stratify = labels** in train_test_split so that imbalanced ratio is mentained in train-test-split.\n",
        "- Used **max_features = 4000** to restrict the vocabulary to 4000.\n",
        "- Used **min_df = 2** which selects only those words which atleast are seen 2 times.\n",
        "- Fit and Transformed X_train and Transformed X_test"
      ],
      "metadata": {
        "id": "Y0iOWuEGK_7G"
      }
    },
    {
      "cell_type": "code",
      "metadata": {
        "id": "kJPFyk-UmtKR",
        "colab": {
          "base_uri": "https://localhost:8080/"
        },
        "outputId": "adc2bf4c-413d-47d2-b761-2857ebf73545"
      },
      "source": [
        "%%time\n",
        "# Splitting the data into Training and Testing set\n",
        "X_train, X_test, y_train, y_test = train_test_split(features, labels, stratify = labels,   test_size= 0.3,  random_state = 15)\n",
        "\n",
        "#Create TF-IDF using TfidfVectorizer\n",
        "tfidfVectorizer = TfidfVectorizer(analyzer= final_preprocessing, max_features = 4000, min_df = 2) # Instantiating Tfidfvectorizer\n",
        "tfidfObject_train = tfidfVectorizer.fit_transform(X_train)                                        # Fit & transform on Training set\n",
        "tfidfObject_test = tfidfVectorizer.transform(X_test)                                              # Transform the testing set\n",
        "print(tfidfObject_train.shape, tfidfObject_test.shape)                                            # Checking Shape of training and testing set"
      ],
      "execution_count": 29,
      "outputs": [
        {
          "output_type": "stream",
          "name": "stdout",
          "text": [
            "(3500, 4000) (1500, 4000)\n",
            "CPU times: user 3min 6s, sys: 886 ms, total: 3min 7s\n",
            "Wall time: 3min 7s\n"
          ]
        }
      ]
    },
    {
      "cell_type": "markdown",
      "metadata": {
        "id": "PGzBS-vFCFbt"
      },
      "source": [
        "## **Create first model: SVC**\n",
        "- SVC model with kernel = \"linear\" which is used for binary classification.\n",
        "- Class imbalance of label is not considered here."
      ]
    },
    {
      "cell_type": "code",
      "metadata": {
        "id": "DOz_gAYyBAEI",
        "colab": {
          "base_uri": "https://localhost:8080/"
        },
        "outputId": "bbc558ca-c268-416d-a508-c958ed88af7f"
      },
      "source": [
        "model = SVC(kernel=\"linear\")\n",
        "model.fit(tfidfObject_train,y_train)\n",
        "\n",
        "preds_train = model.predict(tfidfObject_train)                                            # Prediction on training set\n",
        "preds_test = model.predict(tfidfObject_test)                                              # Prediction on training set\n",
        "\n",
        "training_metrics = metrics.classification_report(y_train, preds_train)                    # Getting Classification report of Training set predictions\n",
        "testing_metrics = metrics.classification_report(y_test, preds_test)                       # Getting Classification report of Test set predictions\n",
        "\n",
        "print(f\"Training Confusion Matrix: \\n{metrics.confusion_matrix(y_train, preds_train)}\\n\") # Printing Confusion Matrix (training)\n",
        "print(f\"Training Classification Report: \\n{training_metrics}\")                            # Printing Classification report (testing)\n",
        "print(\"=\"*100)\n",
        "print(f\"Testing Confusion Matrix: \\n{metrics.confusion_matrix(y_test, preds_test)}\\n\")    # Printing Confusion Matrix (training)\n",
        "print(f\"Testing Classification Report: \\n{testing_metrics}\")                              # Printing Classification report (testing)"
      ],
      "execution_count": 30,
      "outputs": [
        {
          "output_type": "stream",
          "name": "stdout",
          "text": [
            "Training Confusion Matrix: \n",
            "[[3193    1]\n",
            " [ 128  178]]\n",
            "\n",
            "Training Classification Report: \n",
            "              precision    recall  f1-score   support\n",
            "\n",
            "           0       0.96      1.00      0.98      3194\n",
            "           1       0.99      0.58      0.73       306\n",
            "\n",
            "    accuracy                           0.96      3500\n",
            "   macro avg       0.98      0.79      0.86      3500\n",
            "weighted avg       0.96      0.96      0.96      3500\n",
            "\n",
            "====================================================================================================\n",
            "Testing Confusion Matrix: \n",
            "[[1366    3]\n",
            " [  74   57]]\n",
            "\n",
            "Testing Classification Report: \n",
            "              precision    recall  f1-score   support\n",
            "\n",
            "           0       0.95      1.00      0.97      1369\n",
            "           1       0.95      0.44      0.60       131\n",
            "\n",
            "    accuracy                           0.95      1500\n",
            "   macro avg       0.95      0.72      0.78      1500\n",
            "weighted avg       0.95      0.95      0.94      1500\n",
            "\n"
          ]
        }
      ]
    },
    {
      "cell_type": "markdown",
      "source": [
        "## Observations:\n",
        "- Model is not generalized, training_accuracy > testing_accuracy\n",
        "- 0 = Non-Toxic, 1 = Toxic\n",
        "- Observing Confusion matrix and Recall we can see that Model is classifying Non-toxic comments better than toxic comments, reason could be unbalanced data.\n",
        "- Moreover model is predicting only 1 non-toxic comment as toxic comment, whereas it is predicting 128 toxic comments as non-toxic comments, which is not acceptable. Hence, imbalanced data needs to be taken care of."
      ],
      "metadata": {
        "id": "9ZU0i6VbLsL0"
      }
    },
    {
      "cell_type": "markdown",
      "metadata": {
        "id": "eFaQ7NV4CJ9X"
      },
      "source": [
        "## **Model with taking care of Imbalanced Data:**\n",
        "- Using SVC again but this time using class_weight = 'balanced' which automatically takes care of the imbalanced class.\n",
        "- kernal = 'linear' as we know is used for binary classification."
      ]
    },
    {
      "cell_type": "code",
      "metadata": {
        "id": "hpcmqBJWBoDa",
        "colab": {
          "base_uri": "https://localhost:8080/"
        },
        "outputId": "f52cf825-7ff4-4ebb-88cc-73a5c9021b03"
      },
      "source": [
        "from sklearn.svm import SVC\n",
        "model = SVC(kernel=\"linear\", class_weight='balanced') #linear classifier\n",
        "model.fit(tfidfObject_train,y_train)\n",
        "\n",
        "preds_train = model.predict(tfidfObject_train)                                            # Prediction on training set\n",
        "preds_test = model.predict(tfidfObject_test)                                              # Prediction on training set\n",
        "\n",
        "training_metrics = metrics.classification_report(y_train, preds_train)                    # Getting Classification report of Training set predictions\n",
        "testing_metrics = metrics.classification_report(y_test, preds_test)                       # Getting Classification report of Test set predictions\n",
        "\n",
        "print(f\"Training Confusion Matrix: \\n{metrics.confusion_matrix(y_train, preds_train)}\\n\") # Printing Confusion Matrix (training)\n",
        "print(f\"Training Classification Report: \\n{training_metrics}\")                            # Printing Classification report (testing)\n",
        "print(\"=\"*100)\n",
        "print(f\"Testing Confusion Matrix: \\n{metrics.confusion_matrix(y_test, preds_test)}\\n\")    # Printing Confusion Matrix (training)\n",
        "print(f\"Testing Classification Report: \\n{testing_metrics}\")                              # Printing Classification report (testing)"
      ],
      "execution_count": 31,
      "outputs": [
        {
          "output_type": "stream",
          "name": "stdout",
          "text": [
            "Training Confusion Matrix: \n",
            "[[3138   56]\n",
            " [   9  297]]\n",
            "\n",
            "Training Classification Report: \n",
            "              precision    recall  f1-score   support\n",
            "\n",
            "           0       1.00      0.98      0.99      3194\n",
            "           1       0.84      0.97      0.90       306\n",
            "\n",
            "    accuracy                           0.98      3500\n",
            "   macro avg       0.92      0.98      0.95      3500\n",
            "weighted avg       0.98      0.98      0.98      3500\n",
            "\n",
            "====================================================================================================\n",
            "Testing Confusion Matrix: \n",
            "[[1325   44]\n",
            " [  45   86]]\n",
            "\n",
            "Testing Classification Report: \n",
            "              precision    recall  f1-score   support\n",
            "\n",
            "           0       0.97      0.97      0.97      1369\n",
            "           1       0.66      0.66      0.66       131\n",
            "\n",
            "    accuracy                           0.94      1500\n",
            "   macro avg       0.81      0.81      0.81      1500\n",
            "weighted avg       0.94      0.94      0.94      1500\n",
            "\n"
          ]
        }
      ]
    },
    {
      "cell_type": "markdown",
      "source": [
        "## **Observations:**\n",
        "\n",
        "---\n",
        "\n",
        "\n",
        "- Model is not generalized, training_accuracy > testing_accuracy.\n",
        "- 0 = Non-Toxic, 1 = Toxic\n",
        "- Now the recall and f1-score has improved. Also we see that model is classifying toxic comments correctly as compared to previous model. \n",
        "- When observing Test-data classification report we see that 45 toxic comments are classified as non-toxic and 44 non-toxic comments are classified as toxic.\n",
        "- Let's use Hyper-Parameter tuning to improve this score.\n"
      ],
      "metadata": {
        "id": "Xw7mj-gkVkJl"
      }
    },
    {
      "cell_type": "markdown",
      "metadata": {
        "id": "QyLWdiNXJeUS"
      },
      "source": [
        "## **Let's Try Hyper Parameter Tuning on Second Model using Gridsearch CV**\n",
        "- Using GridSearch and StratifiedKFold (for class imbalance)\n",
        "- Only setting values for hyper-parameter 'C'\n",
        "- Specifying class_weight = 'balanced' in SVC to allow model to decide the appropriate weights of imbalanced class.\n",
        "\n",
        "### **After some permutations and combinations of parameters:**\n",
        "- **Using recall as scoring reduces the accuracy of testing set, whereas setting up accuracy or f1 as scoring reduces recall.**\n",
        "- Hence following code **scoring is set to recall and accuracy. Finally refit is set to recall, as that will be deciding scoring metrics.**\n"
      ]
    },
    {
      "cell_type": "code",
      "metadata": {
        "colab": {
          "base_uri": "https://localhost:8080/"
        },
        "id": "cha7XhXoKL9S",
        "outputId": "a48d9c61-9d10-4564-95bd-b79e269d83d7"
      },
      "source": [
        "params = {'C': [0.01,0.01,0.05,0.5],                                   # Setting up parameter for SVC to be tried out in GridSearch CV\n",
        "              # 'degree': [1,4,8]\n",
        "          }                            \n",
        "clf = SVC( kernel=\"linear\", class_weight='balanced')                   # initializing SVC\n",
        "model = GridSearchCV(clf, param_grid = params , cv=StratifiedKFold(5), # GridSearchCV with StratifedKfold and scoring = recall and f1, final decision = recall\n",
        "                     scoring=['recall', 'f1'], refit='recall')\n",
        "model.fit(tfidfObject_train,y_train)                                   # Fitting the GridSearchModel on training set"
      ],
      "execution_count": 32,
      "outputs": [
        {
          "output_type": "execute_result",
          "data": {
            "text/plain": [
              "GridSearchCV(cv=StratifiedKFold(n_splits=5, random_state=None, shuffle=False),\n",
              "             estimator=SVC(class_weight='balanced', kernel='linear'),\n",
              "             param_grid={'C': [0.01, 0.01, 0.05, 0.5]}, refit='recall',\n",
              "             scoring=['recall', 'f1'])"
            ]
          },
          "metadata": {},
          "execution_count": 32
        }
      ]
    },
    {
      "cell_type": "code",
      "metadata": {
        "colab": {
          "base_uri": "https://localhost:8080/"
        },
        "id": "ORuMCoiHLIyP",
        "outputId": "6350b340-4861-466c-c1aa-3677de1aa59b"
      },
      "source": [
        "model.best_estimator_  # Best Estimator after applying GridsearchCV"
      ],
      "execution_count": 33,
      "outputs": [
        {
          "output_type": "execute_result",
          "data": {
            "text/plain": [
              "SVC(C=0.01, class_weight='balanced', kernel='linear')"
            ]
          },
          "metadata": {},
          "execution_count": 33
        }
      ]
    },
    {
      "cell_type": "code",
      "metadata": {
        "colab": {
          "base_uri": "https://localhost:8080/"
        },
        "id": "286PsyJoMUgv",
        "outputId": "dd358d0b-f60c-41a8-8e45-5322c14ea9b4"
      },
      "source": [
        "model.best_score_ # Best Score after appying GridSearchCV"
      ],
      "execution_count": 34,
      "outputs": [
        {
          "output_type": "execute_result",
          "data": {
            "text/plain": [
              "0.8"
            ]
          },
          "metadata": {},
          "execution_count": 34
        }
      ]
    },
    {
      "cell_type": "markdown",
      "source": [
        "### **Prediction using GridSearchCV model**"
      ],
      "metadata": {
        "id": "mOYzqnGveDLq"
      }
    },
    {
      "cell_type": "code",
      "metadata": {
        "colab": {
          "base_uri": "https://localhost:8080/"
        },
        "id": "DzAR89L-MZjT",
        "outputId": "01829a5a-2545-42aa-cf0b-7dcb8ca08496"
      },
      "source": [
        "preds_train = model.predict(tfidfObject_train)                                            # Prediction on training set\n",
        "preds_test = model.predict(tfidfObject_test)                                              # Prediction on training set\n",
        "\n",
        "training_metrics = metrics.classification_report(y_train, preds_train)                    # Getting Classification report of Training set predictions\n",
        "testing_metrics = metrics.classification_report(y_test, preds_test)                       # Getting Classification report of Test set predictions\n",
        "\n",
        "print(f\"Training Confusion Matrix: \\n{metrics.confusion_matrix(y_train, preds_train)}\\n\") # Printing Confusion Matrix (training)\n",
        "print(f\"Training Classification Report: \\n{training_metrics}\")                            # Printing Classification report (testing)\n",
        "print(\"=\"*100)\n",
        "print(f\"Testing Confusion Matrix: \\n{metrics.confusion_matrix(y_test, preds_test)}\\n\")    # Printing Confusion Matrix (training)\n",
        "print(f\"Testing Classification Report: \\n{testing_metrics}\")                              # Printing Classification report (testing)"
      ],
      "execution_count": 35,
      "outputs": [
        {
          "output_type": "stream",
          "name": "stdout",
          "text": [
            "Training Confusion Matrix: \n",
            "[[3194    0]\n",
            " [ 291   15]]\n",
            "\n",
            "Training Classification Report: \n",
            "              precision    recall  f1-score   support\n",
            "\n",
            "           0       0.92      1.00      0.96      3194\n",
            "           1       1.00      0.05      0.09       306\n",
            "\n",
            "    accuracy                           0.92      3500\n",
            "   macro avg       0.96      0.52      0.52      3500\n",
            "weighted avg       0.92      0.92      0.88      3500\n",
            "\n",
            "====================================================================================================\n",
            "Testing Confusion Matrix: \n",
            "[[1369    0]\n",
            " [ 123    8]]\n",
            "\n",
            "Testing Classification Report: \n",
            "              precision    recall  f1-score   support\n",
            "\n",
            "           0       0.92      1.00      0.96      1369\n",
            "           1       1.00      0.06      0.12       131\n",
            "\n",
            "    accuracy                           0.92      1500\n",
            "   macro avg       0.96      0.53      0.54      1500\n",
            "weighted avg       0.92      0.92      0.88      1500\n",
            "\n"
          ]
        }
      ]
    },
    {
      "cell_type": "markdown",
      "source": [
        "## **Observations:**\n",
        "\n",
        "---\n",
        "- Model is not generalized, training_accuracy > testing_accuracy (Overfitted model)\n",
        "- 0 = Non-Toxic, 1 = Toxic\n",
        "- As expected and written initially, the model doesnt perform good when we set deciding factor as recall. \n",
        "- Model has performed worse than than before **Recall of toxic comments  = 0.06 and f1-score = 0.12** for test-set.\n",
        "- Let's try another approach to improve the result."
      ],
      "metadata": {
        "id": "h9FHAQ84I_Lv"
      }
    },
    {
      "cell_type": "markdown",
      "source": [
        "## **Another approach to improve the model:**\n",
        "- Using **scoring = ['recall', 'f1']** which ensures both of these metrics will be considered.\n",
        "- Finally using **refit = 'f1'** which ensures that finally f1-score will be considered as the deciding metrics for this model. "
      ],
      "metadata": {
        "id": "jglVCxHFPSwY"
      }
    },
    {
      "cell_type": "code",
      "source": [
        "params = {'C': [0.01,0.01,0.05,0.5,1]}                       # Setting up parameter for SVC to be tried out in GridSearch CV\n",
        "\n",
        "clf = SVC( kernel=\"linear\", class_weight='balanced',  )     # initializing SVC\n",
        "model = GridSearchCV(clf, param_grid = params ,             # GridSearchCV with StratifedKfold and scoring = recall and f1, final decision = recall\n",
        "                     cv=StratifiedKFold(5), \n",
        "                     scoring=['recall', 'f1'], refit='f1')\n",
        "model.fit(tfidfObject_train,y_train)                        # Fitting the GridSearchModel on training set\n"
      ],
      "metadata": {
        "id": "klfQAZSDPJo2",
        "colab": {
          "base_uri": "https://localhost:8080/"
        },
        "outputId": "5aabac68-d036-4110-85aa-78fa4c55affb"
      },
      "execution_count": 36,
      "outputs": [
        {
          "output_type": "execute_result",
          "data": {
            "text/plain": [
              "GridSearchCV(cv=StratifiedKFold(n_splits=5, random_state=None, shuffle=False),\n",
              "             estimator=SVC(class_weight='balanced', kernel='linear'),\n",
              "             param_grid={'C': [0.01, 0.01, 0.05, 0.5, 1]}, refit='f1',\n",
              "             scoring=['recall', 'f1'])"
            ]
          },
          "metadata": {},
          "execution_count": 36
        }
      ]
    },
    {
      "cell_type": "code",
      "source": [
        "model.best_estimator_   # Best Estimator after applying GridsearchCV"
      ],
      "metadata": {
        "colab": {
          "base_uri": "https://localhost:8080/"
        },
        "id": "T2y8zytREK4S",
        "outputId": "b00b147a-96ad-4ac8-9357-de63eb696671"
      },
      "execution_count": 37,
      "outputs": [
        {
          "output_type": "execute_result",
          "data": {
            "text/plain": [
              "SVC(C=1, class_weight='balanced', kernel='linear')"
            ]
          },
          "metadata": {},
          "execution_count": 37
        }
      ]
    },
    {
      "cell_type": "code",
      "source": [
        "model.best_score_   # Best Score after appying GridSearchCV"
      ],
      "metadata": {
        "colab": {
          "base_uri": "https://localhost:8080/"
        },
        "id": "2p5R2dweENV6",
        "outputId": "42c2751c-d95d-4385-e4e6-29656acae3a1"
      },
      "execution_count": 38,
      "outputs": [
        {
          "output_type": "execute_result",
          "data": {
            "text/plain": [
              "0.5507821918853607"
            ]
          },
          "metadata": {},
          "execution_count": 38
        }
      ]
    },
    {
      "cell_type": "code",
      "source": [
        "preds_train = model.predict(tfidfObject_train)                                            # Prediction on training set\n",
        "preds_test = model.predict(tfidfObject_test)                                              # Prediction on training set\n",
        "\n",
        "training_metrics = metrics.classification_report(y_train, preds_train)                    # Getting Classification report of Training set predictions\n",
        "testing_metrics = metrics.classification_report(y_test, preds_test)                       # Getting Classification report of Test set predictions\n",
        "\n",
        "print(f\"Training Confusion Matrix: \\n{metrics.confusion_matrix(y_train, preds_train)}\\n\") # Printing Confusion Matrix (training)\n",
        "print(f\"Training Classification Report: \\n{training_metrics}\")                            # Printing Classification report (testing)\n",
        "print(\"=\"*100)\n",
        "print(f\"Testing Confusion Matrix: \\n{metrics.confusion_matrix(y_test, preds_test)}\\n\")    # Printing Confusion Matrix (training)\n",
        "print(f\"Testing Classification Report: \\n{testing_metrics}\")                              # Printing Classification report (testing)"
      ],
      "metadata": {
        "colab": {
          "base_uri": "https://localhost:8080/"
        },
        "id": "42nYqEGCEPbS",
        "outputId": "781f132a-672e-4494-e667-343a4a6affda"
      },
      "execution_count": 39,
      "outputs": [
        {
          "output_type": "stream",
          "name": "stdout",
          "text": [
            "Training Confusion Matrix: \n",
            "[[3138   56]\n",
            " [   9  297]]\n",
            "\n",
            "Training Classification Report: \n",
            "              precision    recall  f1-score   support\n",
            "\n",
            "           0       1.00      0.98      0.99      3194\n",
            "           1       0.84      0.97      0.90       306\n",
            "\n",
            "    accuracy                           0.98      3500\n",
            "   macro avg       0.92      0.98      0.95      3500\n",
            "weighted avg       0.98      0.98      0.98      3500\n",
            "\n",
            "====================================================================================================\n",
            "Testing Confusion Matrix: \n",
            "[[1325   44]\n",
            " [  45   86]]\n",
            "\n",
            "Testing Classification Report: \n",
            "              precision    recall  f1-score   support\n",
            "\n",
            "           0       0.97      0.97      0.97      1369\n",
            "           1       0.66      0.66      0.66       131\n",
            "\n",
            "    accuracy                           0.94      1500\n",
            "   macro avg       0.81      0.81      0.81      1500\n",
            "weighted avg       0.94      0.94      0.94      1500\n",
            "\n"
          ]
        }
      ]
    },
    {
      "cell_type": "markdown",
      "source": [
        "## **Observations:**\n",
        "\n",
        "---\n",
        "- Model is not generalized, training_accuracy > testing_accuracy \n",
        "- 0 = Non-Toxic, 1 = Toxic\n",
        "- We see that model is predicting 45 toxic comments as non-toxic comments.\n",
        "- Recall of non-toxic comments = 0.66 and f1-score = 0.66\n",
        "- As we see that model is not improvising further. Hence, we can conclude this f1-score and recall as our final score.\n",
        "\n",
        "### **Further approaches may include:**\n",
        "- Using other ML or DL algorithms.\n",
        "- Use other embeddings like word2vec etc. "
      ],
      "metadata": {
        "id": "VOsRZ93xP7Lx"
      }
    },
    {
      "cell_type": "markdown",
      "source": [
        "### **What are the most prominent terms in the toxic comments?**\n",
        "- Separate the comments from the test set that the model identified as toxic\n",
        "- Make one large list of the terms\n",
        "- Get the top 15 terms\n",
        "\n"
      ],
      "metadata": {
        "id": "CmxdjUCPdSDE"
      }
    },
    {
      "cell_type": "code",
      "source": [
        "# np.concatenate((y_test, preds_test, X_test), axis = 1)\n",
        "n_df = pd.DataFrame() \n",
        "n_df['comments'] = X_test\n",
        "n_df['orginal_labels'] = y_test\n",
        "n_df['predicted_labels'] = preds_test"
      ],
      "metadata": {
        "id": "eQq_Aijzbo2r"
      },
      "execution_count": 41,
      "outputs": []
    },
    {
      "cell_type": "code",
      "source": [
        "list_of_toxic_comments_predicted = \" \".join(n_df[n_df.predicted_labels == 1]['comments'].to_list()).split()"
      ],
      "metadata": {
        "id": "stdm_bKzdcbj"
      },
      "execution_count": 42,
      "outputs": []
    },
    {
      "cell_type": "markdown",
      "source": [
        "## **Frequency of Toxic Words without text-cleaning**"
      ],
      "metadata": {
        "id": "_sygpKi1hE4I"
      }
    },
    {
      "cell_type": "code",
      "source": [
        "freq_dict ={}\n",
        "text_list = list_of_toxic_comments_predicted\n",
        "for word in text_list: \n",
        "    \n",
        "    if word in freq_dict.keys() and len(word) > 3 and word not in stopwords.words('english'):\n",
        "      freq_dict[word] += 1\n",
        "\n",
        "    if word not in freq_dict.keys() and len(word) > 3 and word not in stopwords.words('english'):\n",
        "      freq_dict[word] = 1\n",
        "\n",
        "\n",
        "count_df = pd.DataFrame( freq_dict.values(), freq_dict.keys()).reset_index().rename({0: \"Frequency\", \"index\": \"Words\"}, axis =1)\n",
        "count_df.sort_values(by = 'Frequency', ascending = False)[:15]"
      ],
      "metadata": {
        "colab": {
          "base_uri": "https://localhost:8080/",
          "height": 520
        },
        "id": "WbKZMiDZemvL",
        "outputId": "f589a819-b07c-4482-9f78-49c979b56309"
      },
      "execution_count": 43,
      "outputs": [
        {
          "output_type": "execute_result",
          "data": {
            "text/html": [
              "\n",
              "  <div id=\"df-9da45d71-c0ab-4c27-9574-6e1a8a490dea\">\n",
              "    <div class=\"colab-df-container\">\n",
              "      <div>\n",
              "<style scoped>\n",
              "    .dataframe tbody tr th:only-of-type {\n",
              "        vertical-align: middle;\n",
              "    }\n",
              "\n",
              "    .dataframe tbody tr th {\n",
              "        vertical-align: top;\n",
              "    }\n",
              "\n",
              "    .dataframe thead th {\n",
              "        text-align: right;\n",
              "    }\n",
              "</style>\n",
              "<table border=\"1\" class=\"dataframe\">\n",
              "  <thead>\n",
              "    <tr style=\"text-align: right;\">\n",
              "      <th></th>\n",
              "      <th>Words</th>\n",
              "      <th>Frequency</th>\n",
              "    </tr>\n",
              "  </thead>\n",
              "  <tbody>\n",
              "    <tr>\n",
              "      <th>703</th>\n",
              "      <td>ass.</td>\n",
              "      <td>680</td>\n",
              "    </tr>\n",
              "    <tr>\n",
              "      <th>259</th>\n",
              "      <td>fuck</td>\n",
              "      <td>563</td>\n",
              "    </tr>\n",
              "    <tr>\n",
              "      <th>269</th>\n",
              "      <td>ass!Fuck</td>\n",
              "      <td>277</td>\n",
              "    </tr>\n",
              "    <tr>\n",
              "      <th>823</th>\n",
              "      <td>FUCKING</td>\n",
              "      <td>34</td>\n",
              "    </tr>\n",
              "    <tr>\n",
              "      <th>822</th>\n",
              "      <td>DON'T</td>\n",
              "      <td>33</td>\n",
              "    </tr>\n",
              "    <tr>\n",
              "      <th>820</th>\n",
              "      <td>MOTHER</td>\n",
              "      <td>32</td>\n",
              "    </tr>\n",
              "    <tr>\n",
              "      <th>824</th>\n",
              "      <td>PENIS!</td>\n",
              "      <td>32</td>\n",
              "    </tr>\n",
              "    <tr>\n",
              "      <th>821</th>\n",
              "      <td>FUCKER</td>\n",
              "      <td>32</td>\n",
              "    </tr>\n",
              "    <tr>\n",
              "      <th>819</th>\n",
              "      <td>CURPS</td>\n",
              "      <td>32</td>\n",
              "    </tr>\n",
              "    <tr>\n",
              "      <th>60</th>\n",
              "      <td>like</td>\n",
              "      <td>14</td>\n",
              "    </tr>\n",
              "    <tr>\n",
              "      <th>127</th>\n",
              "      <td>block</td>\n",
              "      <td>12</td>\n",
              "    </tr>\n",
              "    <tr>\n",
              "      <th>61</th>\n",
              "      <td>fucking</td>\n",
              "      <td>12</td>\n",
              "    </tr>\n",
              "    <tr>\n",
              "      <th>152</th>\n",
              "      <td>talk</td>\n",
              "      <td>12</td>\n",
              "    </tr>\n",
              "    <tr>\n",
              "      <th>100</th>\n",
              "      <td>think</td>\n",
              "      <td>10</td>\n",
              "    </tr>\n",
              "    <tr>\n",
              "      <th>211</th>\n",
              "      <td>Fuck</td>\n",
              "      <td>10</td>\n",
              "    </tr>\n",
              "  </tbody>\n",
              "</table>\n",
              "</div>\n",
              "      <button class=\"colab-df-convert\" onclick=\"convertToInteractive('df-9da45d71-c0ab-4c27-9574-6e1a8a490dea')\"\n",
              "              title=\"Convert this dataframe to an interactive table.\"\n",
              "              style=\"display:none;\">\n",
              "        \n",
              "  <svg xmlns=\"http://www.w3.org/2000/svg\" height=\"24px\"viewBox=\"0 0 24 24\"\n",
              "       width=\"24px\">\n",
              "    <path d=\"M0 0h24v24H0V0z\" fill=\"none\"/>\n",
              "    <path d=\"M18.56 5.44l.94 2.06.94-2.06 2.06-.94-2.06-.94-.94-2.06-.94 2.06-2.06.94zm-11 1L8.5 8.5l.94-2.06 2.06-.94-2.06-.94L8.5 2.5l-.94 2.06-2.06.94zm10 10l.94 2.06.94-2.06 2.06-.94-2.06-.94-.94-2.06-.94 2.06-2.06.94z\"/><path d=\"M17.41 7.96l-1.37-1.37c-.4-.4-.92-.59-1.43-.59-.52 0-1.04.2-1.43.59L10.3 9.45l-7.72 7.72c-.78.78-.78 2.05 0 2.83L4 21.41c.39.39.9.59 1.41.59.51 0 1.02-.2 1.41-.59l7.78-7.78 2.81-2.81c.8-.78.8-2.07 0-2.86zM5.41 20L4 18.59l7.72-7.72 1.47 1.35L5.41 20z\"/>\n",
              "  </svg>\n",
              "      </button>\n",
              "      \n",
              "  <style>\n",
              "    .colab-df-container {\n",
              "      display:flex;\n",
              "      flex-wrap:wrap;\n",
              "      gap: 12px;\n",
              "    }\n",
              "\n",
              "    .colab-df-convert {\n",
              "      background-color: #E8F0FE;\n",
              "      border: none;\n",
              "      border-radius: 50%;\n",
              "      cursor: pointer;\n",
              "      display: none;\n",
              "      fill: #1967D2;\n",
              "      height: 32px;\n",
              "      padding: 0 0 0 0;\n",
              "      width: 32px;\n",
              "    }\n",
              "\n",
              "    .colab-df-convert:hover {\n",
              "      background-color: #E2EBFA;\n",
              "      box-shadow: 0px 1px 2px rgba(60, 64, 67, 0.3), 0px 1px 3px 1px rgba(60, 64, 67, 0.15);\n",
              "      fill: #174EA6;\n",
              "    }\n",
              "\n",
              "    [theme=dark] .colab-df-convert {\n",
              "      background-color: #3B4455;\n",
              "      fill: #D2E3FC;\n",
              "    }\n",
              "\n",
              "    [theme=dark] .colab-df-convert:hover {\n",
              "      background-color: #434B5C;\n",
              "      box-shadow: 0px 1px 3px 1px rgba(0, 0, 0, 0.15);\n",
              "      filter: drop-shadow(0px 1px 2px rgba(0, 0, 0, 0.3));\n",
              "      fill: #FFFFFF;\n",
              "    }\n",
              "  </style>\n",
              "\n",
              "      <script>\n",
              "        const buttonEl =\n",
              "          document.querySelector('#df-9da45d71-c0ab-4c27-9574-6e1a8a490dea button.colab-df-convert');\n",
              "        buttonEl.style.display =\n",
              "          google.colab.kernel.accessAllowed ? 'block' : 'none';\n",
              "\n",
              "        async function convertToInteractive(key) {\n",
              "          const element = document.querySelector('#df-9da45d71-c0ab-4c27-9574-6e1a8a490dea');\n",
              "          const dataTable =\n",
              "            await google.colab.kernel.invokeFunction('convertToInteractive',\n",
              "                                                     [key], {});\n",
              "          if (!dataTable) return;\n",
              "\n",
              "          const docLinkHtml = 'Like what you see? Visit the ' +\n",
              "            '<a target=\"_blank\" href=https://colab.research.google.com/notebooks/data_table.ipynb>data table notebook</a>'\n",
              "            + ' to learn more about interactive tables.';\n",
              "          element.innerHTML = '';\n",
              "          dataTable['output_type'] = 'display_data';\n",
              "          await google.colab.output.renderOutput(dataTable, element);\n",
              "          const docLink = document.createElement('div');\n",
              "          docLink.innerHTML = docLinkHtml;\n",
              "          element.appendChild(docLink);\n",
              "        }\n",
              "      </script>\n",
              "    </div>\n",
              "  </div>\n",
              "  "
            ],
            "text/plain": [
              "        Words  Frequency\n",
              "703      ass.        680\n",
              "259      fuck        563\n",
              "269  ass!Fuck        277\n",
              "823   FUCKING         34\n",
              "822     DON'T         33\n",
              "820    MOTHER         32\n",
              "824    PENIS!         32\n",
              "821    FUCKER         32\n",
              "819     CURPS         32\n",
              "60       like         14\n",
              "127     block         12\n",
              "61    fucking         12\n",
              "152      talk         12\n",
              "100     think         10\n",
              "211      Fuck         10"
            ]
          },
          "metadata": {},
          "execution_count": 43
        }
      ]
    },
    {
      "cell_type": "markdown",
      "source": [
        "## **Frequency of Toxic Words after text-cleaning**"
      ],
      "metadata": {
        "id": "cZkdI_w8hNQ3"
      }
    },
    {
      "cell_type": "code",
      "source": [
        "predicted_toxic_comments_cleaned = n_df[n_df.predicted_labels == 1]['comments'].apply(regex_cleaning)  # Cleaning using Regex\n",
        "predicted_toxic_comments_cleaned = predicted_toxic_comments_cleaned.apply(remove_contextual_stopwords) # Removing Contextual Stopwords\n",
        "toxic_comments =\" \".join(predicted_toxic_comments_cleaned.to_list()).split()"
      ],
      "metadata": {
        "id": "KTp0YzIkf8Q8"
      },
      "execution_count": 44,
      "outputs": []
    },
    {
      "cell_type": "code",
      "source": [
        "freq_dict ={}\n",
        "text_list = toxic_comments\n",
        "for word in text_list: \n",
        "    \n",
        "    if word in freq_dict.keys() and len(word) > 3 and word not in stopwords.words('english'):\n",
        "      freq_dict[word] += 1\n",
        "\n",
        "    if word not in freq_dict.keys() and len(word) > 3 and word not in stopwords.words('english'):\n",
        "      freq_dict[word] = 1\n",
        "\n",
        "\n",
        "count_df = pd.DataFrame( freq_dict.values(), freq_dict.keys()).reset_index().rename({0: \"Frequency\", \"index\": \"Words\"}, axis =1)\n",
        "count_df.sort_values(by = 'Frequency', ascending = False)[:15]"
      ],
      "metadata": {
        "colab": {
          "base_uri": "https://localhost:8080/",
          "height": 520
        },
        "id": "jLi3o8tUgPae",
        "outputId": "be388cc9-ae75-4615-b0f8-e17dedf2f73a"
      },
      "execution_count": 45,
      "outputs": [
        {
          "output_type": "execute_result",
          "data": {
            "text/html": [
              "\n",
              "  <div id=\"df-5825db82-e033-42cd-9bf5-557dab2e9992\">\n",
              "    <div class=\"colab-df-container\">\n",
              "      <div>\n",
              "<style scoped>\n",
              "    .dataframe tbody tr th:only-of-type {\n",
              "        vertical-align: middle;\n",
              "    }\n",
              "\n",
              "    .dataframe tbody tr th {\n",
              "        vertical-align: top;\n",
              "    }\n",
              "\n",
              "    .dataframe thead th {\n",
              "        text-align: right;\n",
              "    }\n",
              "</style>\n",
              "<table border=\"1\" class=\"dataframe\">\n",
              "  <thead>\n",
              "    <tr style=\"text-align: right;\">\n",
              "      <th></th>\n",
              "      <th>Words</th>\n",
              "      <th>Frequency</th>\n",
              "    </tr>\n",
              "  </thead>\n",
              "  <tbody>\n",
              "    <tr>\n",
              "      <th>164</th>\n",
              "      <td>fuck</td>\n",
              "      <td>853</td>\n",
              "    </tr>\n",
              "    <tr>\n",
              "      <th>49</th>\n",
              "      <td>fucking</td>\n",
              "      <td>45</td>\n",
              "    </tr>\n",
              "    <tr>\n",
              "      <th>589</th>\n",
              "      <td>fucker</td>\n",
              "      <td>35</td>\n",
              "    </tr>\n",
              "    <tr>\n",
              "      <th>323</th>\n",
              "      <td>penis</td>\n",
              "      <td>35</td>\n",
              "    </tr>\n",
              "    <tr>\n",
              "      <th>588</th>\n",
              "      <td>mother</td>\n",
              "      <td>33</td>\n",
              "    </tr>\n",
              "    <tr>\n",
              "      <th>587</th>\n",
              "      <td>curps</td>\n",
              "      <td>32</td>\n",
              "    </tr>\n",
              "    <tr>\n",
              "      <th>90</th>\n",
              "      <td>block</td>\n",
              "      <td>18</td>\n",
              "    </tr>\n",
              "    <tr>\n",
              "      <th>116</th>\n",
              "      <td>talk</td>\n",
              "      <td>13</td>\n",
              "    </tr>\n",
              "    <tr>\n",
              "      <th>127</th>\n",
              "      <td>people</td>\n",
              "      <td>12</td>\n",
              "    </tr>\n",
              "    <tr>\n",
              "      <th>86</th>\n",
              "      <td>stupid</td>\n",
              "      <td>11</td>\n",
              "    </tr>\n",
              "    <tr>\n",
              "      <th>132</th>\n",
              "      <td>life</td>\n",
              "      <td>11</td>\n",
              "    </tr>\n",
              "    <tr>\n",
              "      <th>601</th>\n",
              "      <td>hate</td>\n",
              "      <td>10</td>\n",
              "    </tr>\n",
              "    <tr>\n",
              "      <th>78</th>\n",
              "      <td>think</td>\n",
              "      <td>10</td>\n",
              "    </tr>\n",
              "    <tr>\n",
              "      <th>1</th>\n",
              "      <td>shit</td>\n",
              "      <td>9</td>\n",
              "    </tr>\n",
              "    <tr>\n",
              "      <th>81</th>\n",
              "      <td>know</td>\n",
              "      <td>9</td>\n",
              "    </tr>\n",
              "  </tbody>\n",
              "</table>\n",
              "</div>\n",
              "      <button class=\"colab-df-convert\" onclick=\"convertToInteractive('df-5825db82-e033-42cd-9bf5-557dab2e9992')\"\n",
              "              title=\"Convert this dataframe to an interactive table.\"\n",
              "              style=\"display:none;\">\n",
              "        \n",
              "  <svg xmlns=\"http://www.w3.org/2000/svg\" height=\"24px\"viewBox=\"0 0 24 24\"\n",
              "       width=\"24px\">\n",
              "    <path d=\"M0 0h24v24H0V0z\" fill=\"none\"/>\n",
              "    <path d=\"M18.56 5.44l.94 2.06.94-2.06 2.06-.94-2.06-.94-.94-2.06-.94 2.06-2.06.94zm-11 1L8.5 8.5l.94-2.06 2.06-.94-2.06-.94L8.5 2.5l-.94 2.06-2.06.94zm10 10l.94 2.06.94-2.06 2.06-.94-2.06-.94-.94-2.06-.94 2.06-2.06.94z\"/><path d=\"M17.41 7.96l-1.37-1.37c-.4-.4-.92-.59-1.43-.59-.52 0-1.04.2-1.43.59L10.3 9.45l-7.72 7.72c-.78.78-.78 2.05 0 2.83L4 21.41c.39.39.9.59 1.41.59.51 0 1.02-.2 1.41-.59l7.78-7.78 2.81-2.81c.8-.78.8-2.07 0-2.86zM5.41 20L4 18.59l7.72-7.72 1.47 1.35L5.41 20z\"/>\n",
              "  </svg>\n",
              "      </button>\n",
              "      \n",
              "  <style>\n",
              "    .colab-df-container {\n",
              "      display:flex;\n",
              "      flex-wrap:wrap;\n",
              "      gap: 12px;\n",
              "    }\n",
              "\n",
              "    .colab-df-convert {\n",
              "      background-color: #E8F0FE;\n",
              "      border: none;\n",
              "      border-radius: 50%;\n",
              "      cursor: pointer;\n",
              "      display: none;\n",
              "      fill: #1967D2;\n",
              "      height: 32px;\n",
              "      padding: 0 0 0 0;\n",
              "      width: 32px;\n",
              "    }\n",
              "\n",
              "    .colab-df-convert:hover {\n",
              "      background-color: #E2EBFA;\n",
              "      box-shadow: 0px 1px 2px rgba(60, 64, 67, 0.3), 0px 1px 3px 1px rgba(60, 64, 67, 0.15);\n",
              "      fill: #174EA6;\n",
              "    }\n",
              "\n",
              "    [theme=dark] .colab-df-convert {\n",
              "      background-color: #3B4455;\n",
              "      fill: #D2E3FC;\n",
              "    }\n",
              "\n",
              "    [theme=dark] .colab-df-convert:hover {\n",
              "      background-color: #434B5C;\n",
              "      box-shadow: 0px 1px 3px 1px rgba(0, 0, 0, 0.15);\n",
              "      filter: drop-shadow(0px 1px 2px rgba(0, 0, 0, 0.3));\n",
              "      fill: #FFFFFF;\n",
              "    }\n",
              "  </style>\n",
              "\n",
              "      <script>\n",
              "        const buttonEl =\n",
              "          document.querySelector('#df-5825db82-e033-42cd-9bf5-557dab2e9992 button.colab-df-convert');\n",
              "        buttonEl.style.display =\n",
              "          google.colab.kernel.accessAllowed ? 'block' : 'none';\n",
              "\n",
              "        async function convertToInteractive(key) {\n",
              "          const element = document.querySelector('#df-5825db82-e033-42cd-9bf5-557dab2e9992');\n",
              "          const dataTable =\n",
              "            await google.colab.kernel.invokeFunction('convertToInteractive',\n",
              "                                                     [key], {});\n",
              "          if (!dataTable) return;\n",
              "\n",
              "          const docLinkHtml = 'Like what you see? Visit the ' +\n",
              "            '<a target=\"_blank\" href=https://colab.research.google.com/notebooks/data_table.ipynb>data table notebook</a>'\n",
              "            + ' to learn more about interactive tables.';\n",
              "          element.innerHTML = '';\n",
              "          dataTable['output_type'] = 'display_data';\n",
              "          await google.colab.output.renderOutput(dataTable, element);\n",
              "          const docLink = document.createElement('div');\n",
              "          docLink.innerHTML = docLinkHtml;\n",
              "          element.appendChild(docLink);\n",
              "        }\n",
              "      </script>\n",
              "    </div>\n",
              "  </div>\n",
              "  "
            ],
            "text/plain": [
              "       Words  Frequency\n",
              "164     fuck        853\n",
              "49   fucking         45\n",
              "589   fucker         35\n",
              "323    penis         35\n",
              "588   mother         33\n",
              "587    curps         32\n",
              "90     block         18\n",
              "116     talk         13\n",
              "127   people         12\n",
              "86    stupid         11\n",
              "132     life         11\n",
              "601     hate         10\n",
              "78     think         10\n",
              "1       shit          9\n",
              "81      know          9"
            ]
          },
          "metadata": {},
          "execution_count": 45
        }
      ]
    },
    {
      "cell_type": "markdown",
      "source": [
        "## **PRs are welcome**"
      ],
      "metadata": {
        "id": "cAIa_ihWfdNK"
      }
    },
    {
      "cell_type": "code",
      "source": [
        ""
      ],
      "metadata": {
        "id": "jTZ8lMGpfVwc"
      },
      "execution_count": null,
      "outputs": []
    }
  ]
}