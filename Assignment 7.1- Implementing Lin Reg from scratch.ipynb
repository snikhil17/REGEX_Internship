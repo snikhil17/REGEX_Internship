{
 "cells": [
  {
   "cell_type": "markdown",
   "id": "b790dc54",
   "metadata": {},
   "source": [
    "# Assignment 7.1 \n",
    "## Regex Software and Services\n",
    "## Implement Linear Regression from Scratch \n"
   ]
  },
  {
   "cell_type": "code",
   "execution_count": 73,
   "id": "95277478",
   "metadata": {},
   "outputs": [],
   "source": [
    "import pandas as pd\n",
    "import numpy as np\n",
    "import matplotlib.pyplot as plt"
   ]
  },
  {
   "cell_type": "markdown",
   "id": "7ecd3b8f",
   "metadata": {},
   "source": [
    "# Linear Regression - Implementation from scratch\n",
    "## Steps:\n",
    "- **Create a Class: specify parameters which will be used in Linear Regression.**\n",
    "- **Create Function for:**\n",
    "    - **Gradient descent**\n",
    "    - **Fit_transform**\n",
    "    - **Predict**"
   ]
  },
  {
   "cell_type": "code",
   "execution_count": 66,
   "id": "10a7274d",
   "metadata": {},
   "outputs": [],
   "source": [
    "class Linear_Regression():    \n",
    "    def __init__(self, learning_rate, iterations):                    # Constructor Function. \n",
    "        self.learning_rate = learning_rate                            # Initializing the Learning rate. \n",
    "        self.iterations = iterations                                  # Initializing the Iterations.\n",
    "\n",
    "    def gradient_descent(self):                                       # Function for updating weights. \n",
    "        Y_pred = self.predict(self.features)\n",
    "        \n",
    "        # calculate gradients\n",
    "        \n",
    "        grad_w = -( 2 * (self.features.T).dot(self.target - Y_pred )) / self.rows\n",
    "        grad_b = - 2 * np.sum(self.target - Y_pred ) / self.rows\n",
    "\n",
    "        self.W = self.W - self.learning_rate * grad_w                  # Updating Weights. \n",
    "        self.b = self.b - self.learning_rate * grad_b                  # Updating Weights. \n",
    "        return self\n",
    "\n",
    "\n",
    "    def fit_transform(self , features , target):\n",
    "        self.features = features\n",
    "        self.target = target\n",
    "        self.rows, self.cols = features.shape[0], features.shape[1]\n",
    "        self.W = np.zeros(self.cols)\n",
    "        self.b = 0\n",
    "        costs = []\n",
    "        for i in range(self.iterations) :\n",
    "            self.gradient_descent()\n",
    "        return self\n",
    "    \n",
    "    def predict(self,features):\n",
    "        return features.dot(self.W)+ self.b"
   ]
  },
  {
   "cell_type": "code",
   "execution_count": 74,
   "id": "c1f958f8",
   "metadata": {},
   "outputs": [
    {
     "data": {
      "text/html": [
       "<div>\n",
       "<style scoped>\n",
       "    .dataframe tbody tr th:only-of-type {\n",
       "        vertical-align: middle;\n",
       "    }\n",
       "\n",
       "    .dataframe tbody tr th {\n",
       "        vertical-align: top;\n",
       "    }\n",
       "\n",
       "    .dataframe thead th {\n",
       "        text-align: right;\n",
       "    }\n",
       "</style>\n",
       "<table border=\"1\" class=\"dataframe\">\n",
       "  <thead>\n",
       "    <tr style=\"text-align: right;\">\n",
       "      <th></th>\n",
       "      <th>YearsExperience</th>\n",
       "      <th>Salary</th>\n",
       "    </tr>\n",
       "  </thead>\n",
       "  <tbody>\n",
       "    <tr>\n",
       "      <th>0</th>\n",
       "      <td>1.1</td>\n",
       "      <td>39343.0</td>\n",
       "    </tr>\n",
       "    <tr>\n",
       "      <th>1</th>\n",
       "      <td>1.3</td>\n",
       "      <td>46205.0</td>\n",
       "    </tr>\n",
       "    <tr>\n",
       "      <th>2</th>\n",
       "      <td>1.5</td>\n",
       "      <td>37731.0</td>\n",
       "    </tr>\n",
       "    <tr>\n",
       "      <th>3</th>\n",
       "      <td>2.0</td>\n",
       "      <td>43525.0</td>\n",
       "    </tr>\n",
       "    <tr>\n",
       "      <th>4</th>\n",
       "      <td>2.2</td>\n",
       "      <td>39891.0</td>\n",
       "    </tr>\n",
       "  </tbody>\n",
       "</table>\n",
       "</div>"
      ],
      "text/plain": [
       "   YearsExperience   Salary\n",
       "0              1.1  39343.0\n",
       "1              1.3  46205.0\n",
       "2              1.5  37731.0\n",
       "3              2.0  43525.0\n",
       "4              2.2  39891.0"
      ]
     },
     "execution_count": 74,
     "metadata": {},
     "output_type": "execute_result"
    }
   ],
   "source": [
    "df = pd.read_csv('Salary_Data-Copy1.csv')\n",
    "df.head()"
   ]
  },
  {
   "cell_type": "code",
   "execution_count": 75,
   "id": "b8771096",
   "metadata": {},
   "outputs": [],
   "source": [
    "X = df.iloc[:,:-1].values\n",
    "Y = df.iloc[:,1].values\n"
   ]
  },
  {
   "cell_type": "code",
   "execution_count": 76,
   "id": "c3a26750",
   "metadata": {},
   "outputs": [],
   "source": [
    "from sklearn.model_selection import train_test_split\n",
    "X_train, X_test, y_train, y_test = train_test_split(X, Y, test_size=1/3, random_state=0)\n"
   ]
  },
  {
   "cell_type": "code",
   "execution_count": 77,
   "id": "30a572c3",
   "metadata": {},
   "outputs": [],
   "source": [
    "lin_reg = Linear_Regression(learning_rate = 0.001, iterations=1000)\n",
    "model = lin_reg.fit_transform(X_train, y_train)"
   ]
  },
  {
   "cell_type": "code",
   "execution_count": 78,
   "id": "7e00b70e",
   "metadata": {},
   "outputs": [
    {
     "name": "stdout",
     "output_type": "stream",
     "text": [
      "Predicted values  [ 28851.59 134333.41  60016.68]\n",
      "Real values       [ 37731. 122391.  57081.]\n",
      "Trained W         11986.57\n",
      "Trained b         10871.74\n"
     ]
    }
   ],
   "source": [
    "Y_pred = model.predict( X_test )\n",
    "print( \"Predicted values \", np.round( Y_pred[:3], 2 ) ) \n",
    "print( \"Real values      \", y_test[:3])\n",
    "print( \"Trained W        \", round(model.W[0],2))\n",
    "print( \"Trained b        \", round(model.b, 2))"
   ]
  },
  {
   "cell_type": "code",
   "execution_count": 79,
   "id": "2028f063",
   "metadata": {},
   "outputs": [
    {
     "data": {
      "image/png": "[encoded data removed]",
      "text/plain": [
       "<Figure size 576x432 with 1 Axes>"
      ]
     },
     "metadata": {
      "needs_background": "light"
     },
     "output_type": "display_data"
    }
   ],
   "source": [
    "plt.figure(figsize=(8,6))\n",
    "plt.scatter(X, Y)\n",
    "plt.xlabel('YearsExperience')\n",
    "plt.ylabel('Salary')\n",
    "plt.show()\n",
    "\n"
   ]
  },
  {
   "cell_type": "code",
   "execution_count": 80,
   "id": "5d56c6f6",
   "metadata": {
    "scrolled": true
   },
   "outputs": [
    {
     "data": {
      "image/png": "[encoded data removed]",
      "text/plain": [
       "<Figure size 432x288 with 1 Axes>"
      ]
     },
     "metadata": {
      "needs_background": "light"
     },
     "output_type": "display_data"
    }
   ],
   "source": [
    "plt.scatter( X_test, y_test, color = 'blue' )\n",
    "plt.plot( X_test, Y_pred, color = 'orange' )\n",
    "plt.title( 'Salary vs Experience' )\n",
    "plt.xlabel( 'Years of Experience' )\n",
    "plt.ylabel( 'Salary' )\n",
    "plt.show()\n",
    "\n"
   ]
  },
  {
   "cell_type": "code",
   "execution_count": null,
   "id": "81fd63f8",
   "metadata": {},
   "outputs": [],
   "source": []
  }
 ],
 "metadata": {
  "kernelspec": {
   "display_name": "Python 3",
   "language": "python",
   "name": "python3"
  },
  "language_info": {
   "codemirror_mode": {
    "name": "ipython",
    "version": 3
   },
   "file_extension": ".py",
   "mimetype": "text/x-python",
   "name": "python",
   "nbconvert_exporter": "python",
   "pygments_lexer": "ipython3",
   "version": "3.8.8"
  }
 },
 "nbformat": 4,
 "nbformat_minor": 5
}
