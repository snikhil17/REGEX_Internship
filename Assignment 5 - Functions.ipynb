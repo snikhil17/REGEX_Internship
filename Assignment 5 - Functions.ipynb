{
 "cells": [
  {
   "cell_type": "markdown",
   "id": "ad07b2a1",
   "metadata": {},
   "source": [
    "# REGex Software Services\n",
    "- **Machine Learning and Deep Learning Training/Internship**\n",
    "\n",
    "# Assignment 5\n",
    "- **Author: Nikhil Shrestha**\n",
    "- **Referral ID : AIRSS1129**"
   ]
  },
  {
   "cell_type": "markdown",
   "id": "93a3ad88",
   "metadata": {},
   "source": [
    "# Questions\n",
    "- **Given a list of integers, write a function to return the sum of all prime numbers in that list.**\n",
    "- **Given a list of integers, write a function to check whether the list is strictly increasing or not.**\n",
    "- **Write a function to check whether a given list is expanding or not (the difference between adjacent elements should keep on increasing).**\n",
    "- **Write a function to calculate all permutations of a given string. (Without using itertools)**\n"
   ]
  },
  {
   "cell_type": "markdown",
   "id": "2411569c",
   "metadata": {},
   "source": [
    "## Given a list of integers, write a function to return the sum of all prime numbers in that list."
   ]
  },
  {
   "cell_type": "code",
   "execution_count": 67,
   "id": "b971851e",
   "metadata": {},
   "outputs": [
    {
     "name": "stdout",
     "output_type": "stream",
     "text": [
      "Enter the list items with a space between them: 2 6 5 7 9 17\n"
     ]
    },
    {
     "data": {
      "text/plain": [
       "31"
      ]
     },
     "execution_count": 67,
     "metadata": {},
     "output_type": "execute_result"
    }
   ],
   "source": [
    "#creating a function for finding out factors\n",
    "def factors(x):\n",
    "    fac = []                               # Creating a new list fac, which will contain all the factors of the given number\n",
    "    for i in range(1,x+1):                 # Creating a for loop from 1 to num+1 as factors starts from 1.\n",
    "        if x%i == 0:                       # if the number in the loop is perfectly divisible by iterative number.\n",
    "            fac += [i]                     # We add the number to the fac list\n",
    "    return fac                             # Finally return fac list.\n",
    "\n",
    "# Creating a function for checking if the number is prime or not\n",
    "def is_prime(x):\n",
    "    if factors(x) == [1,x]:                # Defining prime here: If factors function gets only 1, number then its a prime.\n",
    "        return True\n",
    "    elif x == 1:                           # 1 is not a prime\n",
    "        return False\n",
    "    else:\n",
    "        return False                       # Other numbers are not prime.\n",
    "\n",
    "    \n",
    "def sum_of_primes(list1):\n",
    "    total_sum = 0\n",
    "    for i in list1:\n",
    "        if is_prime(i) == True:\n",
    "            total_sum += i\n",
    "    return total_sum\n",
    "\n",
    "lst_1 = [int(item) for item in input(\"Enter the list items with a space between them: \").split()]\n",
    "sum_of_primes(lst_1)"
   ]
  },
  {
   "cell_type": "markdown",
   "id": "260ef31e",
   "metadata": {},
   "source": [
    "## Given a list of integers, write a function to check whether the list is strictly increasing or not."
   ]
  },
  {
   "cell_type": "code",
   "execution_count": 69,
   "id": "a5468edb",
   "metadata": {
    "scrolled": true
   },
   "outputs": [
    {
     "name": "stdout",
     "output_type": "stream",
     "text": [
      "Enter the list items with a space between them: 1 3 5 5 6\n"
     ]
    },
    {
     "data": {
      "text/plain": [
       "False"
      ]
     },
     "execution_count": 69,
     "metadata": {},
     "output_type": "execute_result"
    }
   ],
   "source": [
    "def strictly_increasing(nums):\n",
    "    if len(nums) <= 1:\n",
    "        return True\n",
    "    if len(set(nums)) != len(nums):\n",
    "        return False\n",
    "    ordered = sorted(nums)\n",
    "    return nums == ordered \n",
    "\n",
    "lst2 = [int(item) for item in input(\"Enter the list items with a space between them: \").split()]\n",
    "# strictly_increasing([-4,-3,-2,-1])\n",
    "# strictly_increasing([1,2,3,6,8])\n",
    "# strictly_increasing([1,3,5,5,6])\n",
    "\n",
    "strictly_increasing(lst2)"
   ]
  },
  {
   "cell_type": "markdown",
   "id": "1d4cb012",
   "metadata": {},
   "source": [
    "## Write a function to check whether a given list is expanding or not (the difference between adjacent elements should keep on increasing)."
   ]
  },
  {
   "cell_type": "code",
   "execution_count": 70,
   "id": "696e8863",
   "metadata": {
    "scrolled": true
   },
   "outputs": [
    {
     "name": "stdout",
     "output_type": "stream",
     "text": [
      "Enter the list items with a space between them: -1 2 -3 4 -5 6 -7 8 -9 10 -11 -32\n"
     ]
    },
    {
     "data": {
      "text/plain": [
       "False"
      ]
     },
     "execution_count": 70,
     "metadata": {},
     "output_type": "execute_result"
    }
   ],
   "source": [
    "def expanding(l):\n",
    "    if len(l) <= 2:\n",
    "        return(True)\n",
    "    diff = abs(l[1]-l[0])\n",
    "    return(diff < abs(l[2]-l[1]) and expanding(l[1:]))\n",
    "\n",
    "lst3 = [int(item) for item in input(\"Enter the list items with a space between them: \").split()]\n",
    "\n",
    "# expanding([-1,2,-3,4,-5,6,-7,8,-9,10,-11,-32])\n",
    "# expanding([-1,2,-3,4,-5,6,-7,8,-9,10,-11,12])\n",
    "\n",
    "expanding(lst3)"
   ]
  },
  {
   "cell_type": "markdown",
   "id": "737d962e",
   "metadata": {},
   "source": [
    "## Write a function to calculate all permutations of a given string. (Without using itertools)"
   ]
  },
  {
   "cell_type": "code",
   "execution_count": 71,
   "id": "4aa05331",
   "metadata": {
    "scrolled": true
   },
   "outputs": [
    {
     "name": "stdout",
     "output_type": "stream",
     "text": [
      "Enter the string : ABC\n",
      "All possible strings are : \n",
      "ABC  ACB  BAC  BCA  CAB  CBA  "
     ]
    }
   ],
   "source": [
    "def permute(s, answer):\n",
    "    if (len(s) == 0):\n",
    "        print(answer, end = \"  \")\n",
    "        return\n",
    "     \n",
    "    for i in range(len(s)):\n",
    "        ch = s[i]\n",
    "        left_substr = s[0:i]\n",
    "        right_substr = s[i + 1:]\n",
    "        rest = left_substr + right_substr\n",
    "        permute(rest, answer + ch)\n",
    " \n",
    "\n",
    "answer = \"\"\n",
    " \n",
    "s = input(\"Enter the string : \")\n",
    " \n",
    "print(\"All possible strings are : \")\n",
    "permute(s, answer)\n",
    "        "
   ]
  },
  {
   "cell_type": "code",
   "execution_count": null,
   "id": "adb75ffc",
   "metadata": {},
   "outputs": [],
   "source": []
  }
 ],
 "metadata": {
  "kernelspec": {
   "display_name": "Python 3",
   "language": "python",
   "name": "python3"
  },
  "language_info": {
   "codemirror_mode": {
    "name": "ipython",
    "version": 3
   },
   "file_extension": ".py",
   "mimetype": "text/x-python",
   "name": "python",
   "nbconvert_exporter": "python",
   "pygments_lexer": "ipython3",
   "version": "3.8.8"
  }
 },
 "nbformat": 4,
 "nbformat_minor": 5
}
